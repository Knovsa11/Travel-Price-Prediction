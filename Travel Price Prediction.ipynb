{
 "cells": [
  {
   "cell_type": "markdown",
   "metadata": {},
   "source": [
    "# Travel Price Prediction"
   ]
  },
  {
   "cell_type": "markdown",
   "metadata": {},
   "source": [
    "Program ini dirancang untuk membuat sebuah model regresi guna melakukan prediksi \n",
    "atau forecasting harga perjalanan platform ride-hailing.\n",
    "Adapun dataset yang digunakan bersumber dari Kaggle dengan nama Uber and Lyft Dataset Boston,Ma \n",
    "yang berisikan tentang informasi semua perjalanan Uber dan Lyft yang dilakukan di Kota Boston"
   ]
  },
  {
   "cell_type": "markdown",
   "metadata": {},
   "source": [
    "# Import Library"
   ]
  },
  {
   "cell_type": "markdown",
   "metadata": {},
   "source": [
    "Melakukan import library untuk membantu melakukan prediksi"
   ]
  },
  {
   "cell_type": "code",
   "execution_count": 1,
   "metadata": {},
   "outputs": [],
   "source": [
    "# Melakukan import library yang akan digunakan\n",
    "\n",
    "import pandas as pd\n",
    "import numpy as np\n",
    "import seaborn as sns\n",
    "import matplotlib.pyplot as plt\n",
    "from sklearn.model_selection import train_test_split\n",
    "import phik\n",
    "from phik import phik_matrix\n",
    "from sklearn.preprocessing import MinMaxScaler\n",
    "from sklearn.preprocessing import OneHotEncoder\n",
    "from sklearn.linear_model import LinearRegression\n",
    "from sklearn.metrics import mean_absolute_error\n",
    "from sklearn.metrics import mean_squared_error\n",
    "from sklearn.metrics import root_mean_squared_error\n",
    "from sklearn.metrics import r2_score\n"
   ]
  },
  {
   "cell_type": "markdown",
   "metadata": {},
   "source": [
    "# Data Loading"
   ]
  },
  {
   "cell_type": "markdown",
   "metadata": {},
   "source": [
    "Tahapan ini untuk melakukan impor data csv yang sudah didownload melalui [Uber and Lyft Dataset Boston, MA](https://www.kaggle.com/datasets/brllrb/uber-and-lyft-dataset-boston-ma) dan dimasukkan ke dalam dataframe menggunakan pandas"
   ]
  },
  {
   "cell_type": "code",
   "execution_count": 2,
   "metadata": {},
   "outputs": [],
   "source": [
    "# Melakukan import data csv ke dalam dataframe menggunakan pandas serta melakukan pemanggilan dataframe\n",
    "\n",
    "df_original = pd.read_csv(\"rideshare_kaggle.csv\")\n",
    "\n",
    "# Duplikasi data ori\n",
    "df = df_original.copy()"
   ]
  },
  {
   "cell_type": "code",
   "execution_count": 3,
   "metadata": {},
   "outputs": [
    {
     "name": "stdout",
     "output_type": "stream",
     "text": [
      "<class 'pandas.core.frame.DataFrame'>\n",
      "RangeIndex: 693071 entries, 0 to 693070\n",
      "Data columns (total 57 columns):\n",
      " #   Column                       Non-Null Count   Dtype  \n",
      "---  ------                       --------------   -----  \n",
      " 0   id                           693071 non-null  object \n",
      " 1   timestamp                    693071 non-null  float64\n",
      " 2   hour                         693071 non-null  int64  \n",
      " 3   day                          693071 non-null  int64  \n",
      " 4   month                        693071 non-null  int64  \n",
      " 5   datetime                     693071 non-null  object \n",
      " 6   timezone                     693071 non-null  object \n",
      " 7   source                       693071 non-null  object \n",
      " 8   destination                  693071 non-null  object \n",
      " 9   cab_type                     693071 non-null  object \n",
      " 10  product_id                   693071 non-null  object \n",
      " 11  name                         693071 non-null  object \n",
      " 12  price                        637976 non-null  float64\n",
      " 13  distance                     693071 non-null  float64\n",
      " 14  surge_multiplier             693071 non-null  float64\n",
      " 15  latitude                     693071 non-null  float64\n",
      " 16  longitude                    693071 non-null  float64\n",
      " 17  temperature                  693071 non-null  float64\n",
      " 18  apparentTemperature          693071 non-null  float64\n",
      " 19  short_summary                693071 non-null  object \n",
      " 20  long_summary                 693071 non-null  object \n",
      " 21  precipIntensity              693071 non-null  float64\n",
      " 22  precipProbability            693071 non-null  float64\n",
      " 23  humidity                     693071 non-null  float64\n",
      " 24  windSpeed                    693071 non-null  float64\n",
      " 25  windGust                     693071 non-null  float64\n",
      " 26  windGustTime                 693071 non-null  int64  \n",
      " 27  visibility                   693071 non-null  float64\n",
      " 28  temperatureHigh              693071 non-null  float64\n",
      " 29  temperatureHighTime          693071 non-null  int64  \n",
      " 30  temperatureLow               693071 non-null  float64\n",
      " 31  temperatureLowTime           693071 non-null  int64  \n",
      " 32  apparentTemperatureHigh      693071 non-null  float64\n",
      " 33  apparentTemperatureHighTime  693071 non-null  int64  \n",
      " 34  apparentTemperatureLow       693071 non-null  float64\n",
      " 35  apparentTemperatureLowTime   693071 non-null  int64  \n",
      " 36  icon                         693071 non-null  object \n",
      " 37  dewPoint                     693071 non-null  float64\n",
      " 38  pressure                     693071 non-null  float64\n",
      " 39  windBearing                  693071 non-null  int64  \n",
      " 40  cloudCover                   693071 non-null  float64\n",
      " 41  uvIndex                      693071 non-null  int64  \n",
      " 42  visibility.1                 693071 non-null  float64\n",
      " 43  ozone                        693071 non-null  float64\n",
      " 44  sunriseTime                  693071 non-null  int64  \n",
      " 45  sunsetTime                   693071 non-null  int64  \n",
      " 46  moonPhase                    693071 non-null  float64\n",
      " 47  precipIntensityMax           693071 non-null  float64\n",
      " 48  uvIndexTime                  693071 non-null  int64  \n",
      " 49  temperatureMin               693071 non-null  float64\n",
      " 50  temperatureMinTime           693071 non-null  int64  \n",
      " 51  temperatureMax               693071 non-null  float64\n",
      " 52  temperatureMaxTime           693071 non-null  int64  \n",
      " 53  apparentTemperatureMin       693071 non-null  float64\n",
      " 54  apparentTemperatureMinTime   693071 non-null  int64  \n",
      " 55  apparentTemperatureMax       693071 non-null  float64\n",
      " 56  apparentTemperatureMaxTime   693071 non-null  int64  \n",
      "dtypes: float64(29), int64(17), object(11)\n",
      "memory usage: 301.4+ MB\n"
     ]
    }
   ],
   "source": [
    "# Melakukan pengecekan informasi atau summary data dari dataset yang digunakan\n",
    "\n",
    "df.info()"
   ]
  },
  {
   "cell_type": "markdown",
   "metadata": {},
   "source": [
    "Berdasarkan informasi diatas, dataset terdiri 57 kolom dan 693071 baris. Kemudian terdapat 3 informasi tipe data yang terdapat pada kolom dataset, seperti tipe data float sebesar 29 kolom, tipe data integer sebesar 17 kolom, dan tipe data object (string) sebesar 11 kolom."
   ]
  },
  {
   "cell_type": "code",
   "execution_count": 4,
   "metadata": {},
   "outputs": [
    {
     "data": {
      "text/html": [
       "<div>\n",
       "<style scoped>\n",
       "    .dataframe tbody tr th:only-of-type {\n",
       "        vertical-align: middle;\n",
       "    }\n",
       "\n",
       "    .dataframe tbody tr th {\n",
       "        vertical-align: top;\n",
       "    }\n",
       "\n",
       "    .dataframe thead th {\n",
       "        text-align: right;\n",
       "    }\n",
       "</style>\n",
       "<table border=\"1\" class=\"dataframe\">\n",
       "  <thead>\n",
       "    <tr style=\"text-align: right;\">\n",
       "      <th></th>\n",
       "      <th>timestamp</th>\n",
       "      <th>hour</th>\n",
       "      <th>day</th>\n",
       "      <th>month</th>\n",
       "      <th>price</th>\n",
       "      <th>distance</th>\n",
       "      <th>surge_multiplier</th>\n",
       "      <th>latitude</th>\n",
       "      <th>longitude</th>\n",
       "      <th>temperature</th>\n",
       "      <th>...</th>\n",
       "      <th>precipIntensityMax</th>\n",
       "      <th>uvIndexTime</th>\n",
       "      <th>temperatureMin</th>\n",
       "      <th>temperatureMinTime</th>\n",
       "      <th>temperatureMax</th>\n",
       "      <th>temperatureMaxTime</th>\n",
       "      <th>apparentTemperatureMin</th>\n",
       "      <th>apparentTemperatureMinTime</th>\n",
       "      <th>apparentTemperatureMax</th>\n",
       "      <th>apparentTemperatureMaxTime</th>\n",
       "    </tr>\n",
       "  </thead>\n",
       "  <tbody>\n",
       "    <tr>\n",
       "      <th>count</th>\n",
       "      <td>6.930710e+05</td>\n",
       "      <td>693071.000000</td>\n",
       "      <td>693071.000000</td>\n",
       "      <td>693071.000000</td>\n",
       "      <td>637976.000000</td>\n",
       "      <td>693071.000000</td>\n",
       "      <td>693071.000000</td>\n",
       "      <td>693071.000000</td>\n",
       "      <td>693071.000000</td>\n",
       "      <td>693071.000000</td>\n",
       "      <td>...</td>\n",
       "      <td>693071.000000</td>\n",
       "      <td>6.930710e+05</td>\n",
       "      <td>693071.000000</td>\n",
       "      <td>6.930710e+05</td>\n",
       "      <td>693071.000000</td>\n",
       "      <td>6.930710e+05</td>\n",
       "      <td>693071.000000</td>\n",
       "      <td>6.930710e+05</td>\n",
       "      <td>693071.000000</td>\n",
       "      <td>6.930710e+05</td>\n",
       "    </tr>\n",
       "    <tr>\n",
       "      <th>mean</th>\n",
       "      <td>1.544046e+09</td>\n",
       "      <td>11.619137</td>\n",
       "      <td>17.794365</td>\n",
       "      <td>11.586684</td>\n",
       "      <td>16.545125</td>\n",
       "      <td>2.189430</td>\n",
       "      <td>1.013870</td>\n",
       "      <td>42.338172</td>\n",
       "      <td>-71.066151</td>\n",
       "      <td>39.584388</td>\n",
       "      <td>...</td>\n",
       "      <td>0.037374</td>\n",
       "      <td>1.544044e+09</td>\n",
       "      <td>33.457774</td>\n",
       "      <td>1.544042e+09</td>\n",
       "      <td>45.261313</td>\n",
       "      <td>1.544047e+09</td>\n",
       "      <td>29.731002</td>\n",
       "      <td>1.544048e+09</td>\n",
       "      <td>41.997343</td>\n",
       "      <td>1.544048e+09</td>\n",
       "    </tr>\n",
       "    <tr>\n",
       "      <th>std</th>\n",
       "      <td>6.891925e+05</td>\n",
       "      <td>6.948114</td>\n",
       "      <td>9.982286</td>\n",
       "      <td>0.492429</td>\n",
       "      <td>9.324359</td>\n",
       "      <td>1.138937</td>\n",
       "      <td>0.091641</td>\n",
       "      <td>0.047840</td>\n",
       "      <td>0.020302</td>\n",
       "      <td>6.726084</td>\n",
       "      <td>...</td>\n",
       "      <td>0.055214</td>\n",
       "      <td>6.912028e+05</td>\n",
       "      <td>6.467224</td>\n",
       "      <td>6.901954e+05</td>\n",
       "      <td>5.645046</td>\n",
       "      <td>6.901353e+05</td>\n",
       "      <td>7.110494</td>\n",
       "      <td>6.871862e+05</td>\n",
       "      <td>6.936841</td>\n",
       "      <td>6.910777e+05</td>\n",
       "    </tr>\n",
       "    <tr>\n",
       "      <th>min</th>\n",
       "      <td>1.543204e+09</td>\n",
       "      <td>0.000000</td>\n",
       "      <td>1.000000</td>\n",
       "      <td>11.000000</td>\n",
       "      <td>2.500000</td>\n",
       "      <td>0.020000</td>\n",
       "      <td>1.000000</td>\n",
       "      <td>42.214800</td>\n",
       "      <td>-71.105400</td>\n",
       "      <td>18.910000</td>\n",
       "      <td>...</td>\n",
       "      <td>0.000000</td>\n",
       "      <td>1.543162e+09</td>\n",
       "      <td>15.630000</td>\n",
       "      <td>1.543122e+09</td>\n",
       "      <td>33.510000</td>\n",
       "      <td>1.543154e+09</td>\n",
       "      <td>11.810000</td>\n",
       "      <td>1.543136e+09</td>\n",
       "      <td>28.950000</td>\n",
       "      <td>1.543187e+09</td>\n",
       "    </tr>\n",
       "    <tr>\n",
       "      <th>25%</th>\n",
       "      <td>1.543444e+09</td>\n",
       "      <td>6.000000</td>\n",
       "      <td>13.000000</td>\n",
       "      <td>11.000000</td>\n",
       "      <td>9.000000</td>\n",
       "      <td>1.280000</td>\n",
       "      <td>1.000000</td>\n",
       "      <td>42.350300</td>\n",
       "      <td>-71.081000</td>\n",
       "      <td>36.450000</td>\n",
       "      <td>...</td>\n",
       "      <td>0.000000</td>\n",
       "      <td>1.543421e+09</td>\n",
       "      <td>30.170000</td>\n",
       "      <td>1.543399e+09</td>\n",
       "      <td>42.570000</td>\n",
       "      <td>1.543439e+09</td>\n",
       "      <td>27.760000</td>\n",
       "      <td>1.543399e+09</td>\n",
       "      <td>36.570000</td>\n",
       "      <td>1.543439e+09</td>\n",
       "    </tr>\n",
       "    <tr>\n",
       "      <th>50%</th>\n",
       "      <td>1.543737e+09</td>\n",
       "      <td>12.000000</td>\n",
       "      <td>17.000000</td>\n",
       "      <td>12.000000</td>\n",
       "      <td>13.500000</td>\n",
       "      <td>2.160000</td>\n",
       "      <td>1.000000</td>\n",
       "      <td>42.351900</td>\n",
       "      <td>-71.063100</td>\n",
       "      <td>40.490000</td>\n",
       "      <td>...</td>\n",
       "      <td>0.000400</td>\n",
       "      <td>1.543770e+09</td>\n",
       "      <td>34.240000</td>\n",
       "      <td>1.543727e+09</td>\n",
       "      <td>44.680000</td>\n",
       "      <td>1.543788e+09</td>\n",
       "      <td>30.130000</td>\n",
       "      <td>1.543745e+09</td>\n",
       "      <td>40.950000</td>\n",
       "      <td>1.543788e+09</td>\n",
       "    </tr>\n",
       "    <tr>\n",
       "      <th>75%</th>\n",
       "      <td>1.544828e+09</td>\n",
       "      <td>18.000000</td>\n",
       "      <td>28.000000</td>\n",
       "      <td>12.000000</td>\n",
       "      <td>22.500000</td>\n",
       "      <td>2.920000</td>\n",
       "      <td>1.000000</td>\n",
       "      <td>42.364700</td>\n",
       "      <td>-71.054200</td>\n",
       "      <td>43.580000</td>\n",
       "      <td>...</td>\n",
       "      <td>0.091600</td>\n",
       "      <td>1.544807e+09</td>\n",
       "      <td>38.880000</td>\n",
       "      <td>1.544789e+09</td>\n",
       "      <td>46.910000</td>\n",
       "      <td>1.544814e+09</td>\n",
       "      <td>35.710000</td>\n",
       "      <td>1.544789e+09</td>\n",
       "      <td>44.120000</td>\n",
       "      <td>1.544818e+09</td>\n",
       "    </tr>\n",
       "    <tr>\n",
       "      <th>max</th>\n",
       "      <td>1.545161e+09</td>\n",
       "      <td>23.000000</td>\n",
       "      <td>30.000000</td>\n",
       "      <td>12.000000</td>\n",
       "      <td>97.500000</td>\n",
       "      <td>7.860000</td>\n",
       "      <td>3.000000</td>\n",
       "      <td>42.366100</td>\n",
       "      <td>-71.033000</td>\n",
       "      <td>57.220000</td>\n",
       "      <td>...</td>\n",
       "      <td>0.145900</td>\n",
       "      <td>1.545152e+09</td>\n",
       "      <td>43.100000</td>\n",
       "      <td>1.545192e+09</td>\n",
       "      <td>57.870000</td>\n",
       "      <td>1.545109e+09</td>\n",
       "      <td>40.050000</td>\n",
       "      <td>1.545134e+09</td>\n",
       "      <td>57.200000</td>\n",
       "      <td>1.545109e+09</td>\n",
       "    </tr>\n",
       "  </tbody>\n",
       "</table>\n",
       "<p>8 rows × 46 columns</p>\n",
       "</div>"
      ],
      "text/plain": [
       "          timestamp           hour            day          month  \\\n",
       "count  6.930710e+05  693071.000000  693071.000000  693071.000000   \n",
       "mean   1.544046e+09      11.619137      17.794365      11.586684   \n",
       "std    6.891925e+05       6.948114       9.982286       0.492429   \n",
       "min    1.543204e+09       0.000000       1.000000      11.000000   \n",
       "25%    1.543444e+09       6.000000      13.000000      11.000000   \n",
       "50%    1.543737e+09      12.000000      17.000000      12.000000   \n",
       "75%    1.544828e+09      18.000000      28.000000      12.000000   \n",
       "max    1.545161e+09      23.000000      30.000000      12.000000   \n",
       "\n",
       "               price       distance  surge_multiplier       latitude  \\\n",
       "count  637976.000000  693071.000000     693071.000000  693071.000000   \n",
       "mean       16.545125       2.189430          1.013870      42.338172   \n",
       "std         9.324359       1.138937          0.091641       0.047840   \n",
       "min         2.500000       0.020000          1.000000      42.214800   \n",
       "25%         9.000000       1.280000          1.000000      42.350300   \n",
       "50%        13.500000       2.160000          1.000000      42.351900   \n",
       "75%        22.500000       2.920000          1.000000      42.364700   \n",
       "max        97.500000       7.860000          3.000000      42.366100   \n",
       "\n",
       "           longitude    temperature  ...  precipIntensityMax   uvIndexTime  \\\n",
       "count  693071.000000  693071.000000  ...       693071.000000  6.930710e+05   \n",
       "mean      -71.066151      39.584388  ...            0.037374  1.544044e+09   \n",
       "std         0.020302       6.726084  ...            0.055214  6.912028e+05   \n",
       "min       -71.105400      18.910000  ...            0.000000  1.543162e+09   \n",
       "25%       -71.081000      36.450000  ...            0.000000  1.543421e+09   \n",
       "50%       -71.063100      40.490000  ...            0.000400  1.543770e+09   \n",
       "75%       -71.054200      43.580000  ...            0.091600  1.544807e+09   \n",
       "max       -71.033000      57.220000  ...            0.145900  1.545152e+09   \n",
       "\n",
       "       temperatureMin  temperatureMinTime  temperatureMax  temperatureMaxTime  \\\n",
       "count   693071.000000        6.930710e+05   693071.000000        6.930710e+05   \n",
       "mean        33.457774        1.544042e+09       45.261313        1.544047e+09   \n",
       "std          6.467224        6.901954e+05        5.645046        6.901353e+05   \n",
       "min         15.630000        1.543122e+09       33.510000        1.543154e+09   \n",
       "25%         30.170000        1.543399e+09       42.570000        1.543439e+09   \n",
       "50%         34.240000        1.543727e+09       44.680000        1.543788e+09   \n",
       "75%         38.880000        1.544789e+09       46.910000        1.544814e+09   \n",
       "max         43.100000        1.545192e+09       57.870000        1.545109e+09   \n",
       "\n",
       "       apparentTemperatureMin  apparentTemperatureMinTime  \\\n",
       "count           693071.000000                6.930710e+05   \n",
       "mean                29.731002                1.544048e+09   \n",
       "std                  7.110494                6.871862e+05   \n",
       "min                 11.810000                1.543136e+09   \n",
       "25%                 27.760000                1.543399e+09   \n",
       "50%                 30.130000                1.543745e+09   \n",
       "75%                 35.710000                1.544789e+09   \n",
       "max                 40.050000                1.545134e+09   \n",
       "\n",
       "       apparentTemperatureMax  apparentTemperatureMaxTime  \n",
       "count           693071.000000                6.930710e+05  \n",
       "mean                41.997343                1.544048e+09  \n",
       "std                  6.936841                6.910777e+05  \n",
       "min                 28.950000                1.543187e+09  \n",
       "25%                 36.570000                1.543439e+09  \n",
       "50%                 40.950000                1.543788e+09  \n",
       "75%                 44.120000                1.544818e+09  \n",
       "max                 57.200000                1.545109e+09  \n",
       "\n",
       "[8 rows x 46 columns]"
      ]
     },
     "execution_count": 4,
     "metadata": {},
     "output_type": "execute_result"
    }
   ],
   "source": [
    "# Menampilkan ringkasan statistik dari setiap kolom yang berada pada dataset\n",
    "\n",
    "df.describe()"
   ]
  },
  {
   "cell_type": "markdown",
   "metadata": {},
   "source": [
    "## Pengecekan informasi unik value dan missing value"
   ]
  },
  {
   "cell_type": "code",
   "execution_count": 5,
   "metadata": {},
   "outputs": [
    {
     "data": {
      "text/plain": [
       "id                             693071\n",
       "timestamp                       36179\n",
       "hour                               24\n",
       "day                                17\n",
       "month                               2\n",
       "datetime                        31350\n",
       "timezone                            1\n",
       "source                             12\n",
       "destination                        12\n",
       "cab_type                            2\n",
       "product_id                         13\n",
       "name                               13\n",
       "price                             147\n",
       "distance                          549\n",
       "surge_multiplier                    7\n",
       "latitude                           11\n",
       "longitude                          12\n",
       "temperature                       308\n",
       "apparentTemperature               319\n",
       "short_summary                       9\n",
       "long_summary                       11\n",
       "precipIntensity                    63\n",
       "precipProbability                  29\n",
       "humidity                           51\n",
       "windSpeed                         291\n",
       "windGust                          286\n",
       "windGustTime                       25\n",
       "visibility                        227\n",
       "temperatureHigh                   129\n",
       "temperatureHighTime                23\n",
       "temperatureLow                    133\n",
       "temperatureLowTime                 31\n",
       "apparentTemperatureHigh           124\n",
       "apparentTemperatureHighTime        27\n",
       "apparentTemperatureLow            136\n",
       "apparentTemperatureLowTime         32\n",
       "icon                                7\n",
       "dewPoint                          313\n",
       "pressure                          316\n",
       "windBearing                       195\n",
       "cloudCover                         83\n",
       "uvIndex                             3\n",
       "visibility.1                      227\n",
       "ozone                             274\n",
       "sunriseTime                       110\n",
       "sunsetTime                        114\n",
       "moonPhase                          18\n",
       "precipIntensityMax                 65\n",
       "uvIndexTime                        20\n",
       "temperatureMin                    131\n",
       "temperatureMinTime                 25\n",
       "temperatureMax                    128\n",
       "temperatureMaxTime                 23\n",
       "apparentTemperatureMin            137\n",
       "apparentTemperatureMinTime         29\n",
       "apparentTemperatureMax            125\n",
       "apparentTemperatureMaxTime         27\n",
       "dtype: int64"
      ]
     },
     "execution_count": 5,
     "metadata": {},
     "output_type": "execute_result"
    }
   ],
   "source": [
    "# Menampilkan unik value di setiap kolom\n",
    "\n",
    "df.nunique()"
   ]
  },
  {
   "cell_type": "markdown",
   "metadata": {},
   "source": [
    "Berdasarkan informasi diatas terdapat berbagai macam nilai unik di masing-masing kolom."
   ]
  },
  {
   "cell_type": "code",
   "execution_count": 6,
   "metadata": {},
   "outputs": [
    {
     "data": {
      "text/plain": [
       "id                                 0\n",
       "timestamp                          0\n",
       "hour                               0\n",
       "day                                0\n",
       "month                              0\n",
       "datetime                           0\n",
       "timezone                           0\n",
       "source                             0\n",
       "destination                        0\n",
       "cab_type                           0\n",
       "product_id                         0\n",
       "name                               0\n",
       "price                          55095\n",
       "distance                           0\n",
       "surge_multiplier                   0\n",
       "latitude                           0\n",
       "longitude                          0\n",
       "temperature                        0\n",
       "apparentTemperature                0\n",
       "short_summary                      0\n",
       "long_summary                       0\n",
       "precipIntensity                    0\n",
       "precipProbability                  0\n",
       "humidity                           0\n",
       "windSpeed                          0\n",
       "windGust                           0\n",
       "windGustTime                       0\n",
       "visibility                         0\n",
       "temperatureHigh                    0\n",
       "temperatureHighTime                0\n",
       "temperatureLow                     0\n",
       "temperatureLowTime                 0\n",
       "apparentTemperatureHigh            0\n",
       "apparentTemperatureHighTime        0\n",
       "apparentTemperatureLow             0\n",
       "apparentTemperatureLowTime         0\n",
       "icon                               0\n",
       "dewPoint                           0\n",
       "pressure                           0\n",
       "windBearing                        0\n",
       "cloudCover                         0\n",
       "uvIndex                            0\n",
       "visibility.1                       0\n",
       "ozone                              0\n",
       "sunriseTime                        0\n",
       "sunsetTime                         0\n",
       "moonPhase                          0\n",
       "precipIntensityMax                 0\n",
       "uvIndexTime                        0\n",
       "temperatureMin                     0\n",
       "temperatureMinTime                 0\n",
       "temperatureMax                     0\n",
       "temperatureMaxTime                 0\n",
       "apparentTemperatureMin             0\n",
       "apparentTemperatureMinTime         0\n",
       "apparentTemperatureMax             0\n",
       "apparentTemperatureMaxTime         0\n",
       "dtype: int64"
      ]
     },
     "execution_count": 6,
     "metadata": {},
     "output_type": "execute_result"
    }
   ],
   "source": [
    "# Melakukan pengecekan missing value di setiap kolom dataset\n",
    "\n",
    "df.isnull().sum()"
   ]
  },
  {
   "cell_type": "markdown",
   "metadata": {},
   "source": [
    "Berdasarkan informasi diatas, didapatkan bahwa terdapat missing value pada kolom **price**. Oleh karena itu dibutuhkan sebuah treatment missing value pada kolom **price** agar prediksi yang akan dilakukan memberikan prediksi yang baik atau tidak bias."
   ]
  },
  {
   "cell_type": "code",
   "execution_count": 7,
   "metadata": {},
   "outputs": [
    {
     "name": "stdout",
     "output_type": "stream",
     "text": [
      "Total missing value pada price:  55095\n",
      "Total data pada price:  693071\n",
      "Persentase missing value terhadap total data pada price sebesar:  7.95% \n"
     ]
    }
   ],
   "source": [
    "# Menghitung total jumlah missing value yang berada di kolom price\n",
    "missing_values_price = df['price'].isnull().sum()\n",
    "\n",
    "# Menghitung total jumlah data yang berada di kolom price\n",
    "total_data_price = len(df['price'])\n",
    "\n",
    "# Menghitung total persentase missing values pada kolom price dibandingkan dengan total jumlah data yang berada di kolom price\n",
    "persentase_missing_value_price = (missing_values_price / total_data_price) * 100\n",
    "\n",
    "print('Total missing value pada price: ', missing_values_price)\n",
    "print('Total data pada price: ', total_data_price)\n",
    "print(f\"Persentase missing value terhadap total data pada price sebesar: {persentase_missing_value_price: .2f}% \")\n",
    "\n"
   ]
  },
  {
   "cell_type": "markdown",
   "metadata": {},
   "source": [
    "Berdasarkan informasi diatas diketahui bahwa terdapat total missing value pada price sebesar 55095, total data pada price 693071, dan dengan persentase missing value terhadap total data pada kolom price sebesar 7.95 persen."
   ]
  },
  {
   "cell_type": "code",
   "execution_count": 8,
   "metadata": {},
   "outputs": [
    {
     "data": {
      "text/plain": [
       "0"
      ]
     },
     "execution_count": 8,
     "metadata": {},
     "output_type": "execute_result"
    }
   ],
   "source": [
    "# Menampilkan dan mengecek data duplikat yang ada di dalam dataset\n",
    "\n",
    "df.duplicated().sum()"
   ]
  },
  {
   "cell_type": "markdown",
   "metadata": {},
   "source": [
    "Berdasarkan informasi diatas tidak terdapat data duplikat pada setiap data di dataset."
   ]
  },
  {
   "cell_type": "markdown",
   "metadata": {},
   "source": [
    "# Exploratory Data Analysis (EDA)"
   ]
  },
  {
   "cell_type": "code",
   "execution_count": 9,
   "metadata": {},
   "outputs": [
    {
     "name": "stderr",
     "output_type": "stream",
     "text": [
      "c:\\Users\\Kelvin Rizky\\miniconda3\\lib\\site-packages\\seaborn\\_oldcore.py:1119: FutureWarning: use_inf_as_na option is deprecated and will be removed in a future version. Convert inf values to NaN before operating instead.\n",
      "  with pd.option_context('mode.use_inf_as_na', True):\n"
     ]
    },
    {
     "data": {
      "image/png": "[encoded data removed]",
      "text/plain": [
       "<Figure size 1600x400 with 2 Axes>"
      ]
     },
     "metadata": {},
     "output_type": "display_data"
    }
   ],
   "source": [
    "# Membuat fungsi untuk mengecek outlier price dengan menggunakan histogram dan bo\n",
    "\n",
    "# Define figure size\n",
    "plt.figure(figsize=(16, 4))\n",
    "\n",
    "# Histogram\n",
    "plt.subplot(1, 2, 1)\n",
    "sns.histplot(df['price'], bins=30)\n",
    "plt.title('Histogram')\n",
    "\n",
    "# Boxplot\n",
    "plt.subplot(1, 2, 2)\n",
    "sns.boxplot(y=df['price'])\n",
    "plt.title('Boxplot')\n",
    "\n",
    "plt.show()"
   ]
  },
  {
   "cell_type": "markdown",
   "metadata": {},
   "source": [
    "Berdasarkan data diatas dapat diketahi bahwa terdapat outlier, dimana pada histogram terdapat harga yang paling mendominasi di rentang < 20 dollar dan pada boxplot terdapat informasi bahwa data didominasi diluar rentang."
   ]
  },
  {
   "cell_type": "markdown",
   "metadata": {},
   "source": [
    "## Layanan transportasi apa yang memiliki harga yang paling mahal?"
   ]
  },
  {
   "cell_type": "code",
   "execution_count": 10,
   "metadata": {},
   "outputs": [
    {
     "data": {
      "text/plain": [
       "(693071, 57)"
      ]
     },
     "execution_count": 10,
     "metadata": {},
     "output_type": "execute_result"
    }
   ],
   "source": [
    "# Membuat variabel dengan cara mengcopy dataset untuk mengganti missing value dengan median\n",
    "\n",
    "df_rate = df.copy()\n",
    "\n",
    "df_rate.shape"
   ]
  },
  {
   "cell_type": "code",
   "execution_count": 11,
   "metadata": {},
   "outputs": [
    {
     "data": {
      "text/plain": [
       "id                                 0\n",
       "timestamp                          0\n",
       "hour                               0\n",
       "day                                0\n",
       "month                              0\n",
       "datetime                           0\n",
       "timezone                           0\n",
       "source                             0\n",
       "destination                        0\n",
       "cab_type                           0\n",
       "product_id                         0\n",
       "name                               0\n",
       "price                          55095\n",
       "distance                           0\n",
       "surge_multiplier                   0\n",
       "latitude                           0\n",
       "longitude                          0\n",
       "temperature                        0\n",
       "apparentTemperature                0\n",
       "short_summary                      0\n",
       "long_summary                       0\n",
       "precipIntensity                    0\n",
       "precipProbability                  0\n",
       "humidity                           0\n",
       "windSpeed                          0\n",
       "windGust                           0\n",
       "windGustTime                       0\n",
       "visibility                         0\n",
       "temperatureHigh                    0\n",
       "temperatureHighTime                0\n",
       "temperatureLow                     0\n",
       "temperatureLowTime                 0\n",
       "apparentTemperatureHigh            0\n",
       "apparentTemperatureHighTime        0\n",
       "apparentTemperatureLow             0\n",
       "apparentTemperatureLowTime         0\n",
       "icon                               0\n",
       "dewPoint                           0\n",
       "pressure                           0\n",
       "windBearing                        0\n",
       "cloudCover                         0\n",
       "uvIndex                            0\n",
       "visibility.1                       0\n",
       "ozone                              0\n",
       "sunriseTime                        0\n",
       "sunsetTime                         0\n",
       "moonPhase                          0\n",
       "precipIntensityMax                 0\n",
       "uvIndexTime                        0\n",
       "temperatureMin                     0\n",
       "temperatureMinTime                 0\n",
       "temperatureMax                     0\n",
       "temperatureMaxTime                 0\n",
       "apparentTemperatureMin             0\n",
       "apparentTemperatureMinTime         0\n",
       "apparentTemperatureMax             0\n",
       "apparentTemperatureMaxTime         0\n",
       "dtype: int64"
      ]
     },
     "execution_count": 11,
     "metadata": {},
     "output_type": "execute_result"
    }
   ],
   "source": [
    "# Melakukan pengecekan kembali missing value\n",
    "\n",
    "df_rate.isnull().sum()"
   ]
  },
  {
   "cell_type": "code",
   "execution_count": 12,
   "metadata": {},
   "outputs": [
    {
     "data": {
      "text/plain": [
       "id                             0\n",
       "timestamp                      0\n",
       "hour                           0\n",
       "day                            0\n",
       "month                          0\n",
       "datetime                       0\n",
       "timezone                       0\n",
       "source                         0\n",
       "destination                    0\n",
       "cab_type                       0\n",
       "product_id                     0\n",
       "name                           0\n",
       "price                          0\n",
       "distance                       0\n",
       "surge_multiplier               0\n",
       "latitude                       0\n",
       "longitude                      0\n",
       "temperature                    0\n",
       "apparentTemperature            0\n",
       "short_summary                  0\n",
       "long_summary                   0\n",
       "precipIntensity                0\n",
       "precipProbability              0\n",
       "humidity                       0\n",
       "windSpeed                      0\n",
       "windGust                       0\n",
       "windGustTime                   0\n",
       "visibility                     0\n",
       "temperatureHigh                0\n",
       "temperatureHighTime            0\n",
       "temperatureLow                 0\n",
       "temperatureLowTime             0\n",
       "apparentTemperatureHigh        0\n",
       "apparentTemperatureHighTime    0\n",
       "apparentTemperatureLow         0\n",
       "apparentTemperatureLowTime     0\n",
       "icon                           0\n",
       "dewPoint                       0\n",
       "pressure                       0\n",
       "windBearing                    0\n",
       "cloudCover                     0\n",
       "uvIndex                        0\n",
       "visibility.1                   0\n",
       "ozone                          0\n",
       "sunriseTime                    0\n",
       "sunsetTime                     0\n",
       "moonPhase                      0\n",
       "precipIntensityMax             0\n",
       "uvIndexTime                    0\n",
       "temperatureMin                 0\n",
       "temperatureMinTime             0\n",
       "temperatureMax                 0\n",
       "temperatureMaxTime             0\n",
       "apparentTemperatureMin         0\n",
       "apparentTemperatureMinTime     0\n",
       "apparentTemperatureMax         0\n",
       "apparentTemperatureMaxTime     0\n",
       "dtype: int64"
      ]
     },
     "execution_count": 12,
     "metadata": {},
     "output_type": "execute_result"
    }
   ],
   "source": [
    "#Mengisi data menggunakan mean\n",
    "df_rate['price'].fillna(df_rate['price'].mean(), inplace=True)\n",
    "\n",
    "#Mengecek apakah masih terdapat missing value\n",
    "df_rate.isnull().sum()"
   ]
  },
  {
   "cell_type": "markdown",
   "metadata": {},
   "source": [
    "Berdasarkan informasi diatas sudah tidak ditemukan lagi missing value karena sudah dilakukan treatment dengan mengganti data ke mean ([Sumber](https://reyvanmaulid.medium.com/data-wrangling-python-38c45c81d428)). Menggunakan mean karena outlier pada **price** tidak terlalu besar."
   ]
  },
  {
   "cell_type": "code",
   "execution_count": 13,
   "metadata": {},
   "outputs": [
    {
     "data": {
      "text/plain": [
       "cab_type\n",
       "Lyft    17.351396\n",
       "Uber    15.902455\n",
       "Name: price, dtype: float64"
      ]
     },
     "execution_count": 13,
     "metadata": {},
     "output_type": "execute_result"
    }
   ],
   "source": [
    "# Menampilkan rata-rata harga berdasarkan 2 tipe layanan\n",
    "\n",
    "df_rate.groupby('cab_type')['price'].mean()"
   ]
  },
  {
   "cell_type": "code",
   "execution_count": 14,
   "metadata": {},
   "outputs": [
    {
     "data": {
      "text/plain": [
       "<Axes: xlabel='cab_type', ylabel='price'>"
      ]
     },
     "execution_count": 14,
     "metadata": {},
     "output_type": "execute_result"
    },
    {
     "data": {
      "image/png": "[encoded data removed]",
      "text/plain": [
       "<Figure size 800x500 with 1 Axes>"
      ]
     },
     "metadata": {},
     "output_type": "display_data"
    }
   ],
   "source": [
    "# Membuat barplot\n",
    "\n",
    "sns.set(rc={'figure.figsize':(8,5)})\n",
    "cols = ['green', 'blue']\n",
    "sns.barplot(x='cab_type', y='price', palette= cols, data=df_rate)"
   ]
  },
  {
   "cell_type": "markdown",
   "metadata": {},
   "source": [
    "Berdasarkan informasi diatas didapatkan bahwa rata-rata harga Lyft cukup mahal dibandingkan dengan Uber, dengan catatan missing value di dalam price di treatment dengan mengganti nilai mean."
   ]
  },
  {
   "cell_type": "markdown",
   "metadata": {},
   "source": [
    "## Apakah tarif perjalanan dipengaruhi oleh jenis mobil yang digunakan?"
   ]
  },
  {
   "cell_type": "code",
   "execution_count": 15,
   "metadata": {},
   "outputs": [
    {
     "data": {
      "text/plain": [
       "name\n",
       "Black           20.523786\n",
       "Black SUV       30.286763\n",
       "Lux             17.771240\n",
       "Lux Black       23.062468\n",
       "Lux Black XL    32.324086\n",
       "Lyft             9.610885\n",
       "Lyft XL         15.309363\n",
       "Shared           6.029893\n",
       "Taxi            16.545125\n",
       "UberPool         8.752500\n",
       "UberX            9.765074\n",
       "UberXL          15.678144\n",
       "WAV              9.765019\n",
       "Name: price, dtype: float64"
      ]
     },
     "execution_count": 15,
     "metadata": {},
     "output_type": "execute_result"
    }
   ],
   "source": [
    "# Menampilkan rata-rata harga berdasarkan jenis mobil pada kolom name\n",
    "car_type_price = df_rate.groupby('name')['price'].mean()\n",
    "car_type_price"
   ]
  },
  {
   "cell_type": "code",
   "execution_count": 16,
   "metadata": {},
   "outputs": [
    {
     "data": {
      "text/plain": [
       "<Axes: xlabel='price', ylabel='name'>"
      ]
     },
     "execution_count": 16,
     "metadata": {},
     "output_type": "execute_result"
    },
    {
     "data": {
      "image/png": "[encoded data removed]",
      "text/plain": [
       "<Figure size 800x500 with 1 Axes>"
      ]
     },
     "metadata": {},
     "output_type": "display_data"
    }
   ],
   "source": [
    "# Menampilkan barplot jenis mobil \n",
    "sns.set(rc={'figure.figsize':(8,5)})\n",
    "sns.barplot(y='name', x='price', palette= cols, data=df_rate, hue ='cab_type')"
   ]
  },
  {
   "cell_type": "markdown",
   "metadata": {},
   "source": [
    "Berdasarkan informasi diatas didapatkan informasi bahwa,\n",
    "\n",
    "1. Mobil Uber:\n",
    "\n",
    "Tarif tertinggi --> Black SUV dengan harga 32.32 dollar\n",
    "Tarif terendah -->  UberPool dengan harga 8.75 dollar\n",
    "\n",
    "2. Mobil Lyft:\n",
    "\n",
    "Tarif tertinggi --> Lux Black XL dengan harga 30.28 dollar\n",
    "Tarif terendah --> Shared dengan harga 6.02 dollar\n"
   ]
  },
  {
   "cell_type": "markdown",
   "metadata": {},
   "source": [
    "## Data banyak perjalanan berdasarkan waktu"
   ]
  },
  {
   "cell_type": "code",
   "execution_count": 17,
   "metadata": {},
   "outputs": [],
   "source": [
    "# Merubah tipe data 'date time' dari object menjadi tipe data datetime\n",
    "df_rate['datetime']=pd.to_datetime(df_rate['datetime'])"
   ]
  },
  {
   "cell_type": "code",
   "execution_count": 18,
   "metadata": {},
   "outputs": [
    {
     "data": {
      "text/plain": [
       "<Axes: xlabel='month', ylabel='count'>"
      ]
     },
     "execution_count": 18,
     "metadata": {},
     "output_type": "execute_result"
    },
    {
     "data": {
      "image/png": "[encoded data removed]",
      "text/plain": [
       "<Figure size 800x500 with 1 Axes>"
      ]
     },
     "metadata": {},
     "output_type": "display_data"
    }
   ],
   "source": [
    "# Menampilkan barplot pada data month\n",
    "sns.set(rc={'figure.figsize':(8,5)})\n",
    "cols = cols = ['red', 'blue']\n",
    "sns.countplot(x='month', palette= cols, data=df_rate)"
   ]
  },
  {
   "cell_type": "markdown",
   "metadata": {},
   "source": [
    "Berdasarkan hasil visualisasi diatas, didapatkan bahwa data perjalanan hanya terdapat pada bulan November (11) dan Desember (12). Adapun frekuensi perjalanan paling banyak terdapat pada bulan Desember."
   ]
  },
  {
   "cell_type": "code",
   "execution_count": 19,
   "metadata": {},
   "outputs": [
    {
     "data": {
      "text/plain": [
       "<Axes: xlabel='day', ylabel='count'>"
      ]
     },
     "execution_count": 19,
     "metadata": {},
     "output_type": "execute_result"
    },
    {
     "data": {
      "image/png": "[encoded data removed]",
      "text/plain": [
       "<Figure size 800x500 with 1 Axes>"
      ]
     },
     "metadata": {},
     "output_type": "display_data"
    }
   ],
   "source": [
    "# Menampilkan barplot pada data day\n",
    "sns.set(rc={'figure.figsize':(8,5)})\n",
    "sns.countplot(x='day', data=df_rate)"
   ]
  },
  {
   "cell_type": "markdown",
   "metadata": {},
   "source": [
    "Berdasarkan hasil visualisasi diatas, didapatkan bahwa frekuensi pemesanan layanan transportasi Uber dan Lyft paling banyak pada tanggal 27 dan paling sedikit pada tanggal 9. Kemudian pada tanggal 5, 6, 7, 8, 11, 12, 19 s.d 25 tidak ada pemesanan layanan transportasi Uber dan Lyft. "
   ]
  },
  {
   "cell_type": "code",
   "execution_count": 20,
   "metadata": {},
   "outputs": [
    {
     "data": {
      "text/plain": [
       "<Axes: xlabel='hour', ylabel='count'>"
      ]
     },
     "execution_count": 20,
     "metadata": {},
     "output_type": "execute_result"
    },
    {
     "data": {
      "image/png": "[encoded data removed]",
      "text/plain": [
       "<Figure size 800x500 with 1 Axes>"
      ]
     },
     "metadata": {},
     "output_type": "display_data"
    }
   ],
   "source": [
    "# Menampilkan barplot pada data hour\n",
    "sns.set(rc={'figure.figsize':(8,5)})\n",
    "sns.countplot(x='hour', data=df_rate)"
   ]
  },
  {
   "cell_type": "markdown",
   "metadata": {},
   "source": [
    "Berdasarkan visualisasi diatas dapat disimpulkan bahwa pada setiap jam terjadi pemesanan layanan transportasi Uber dan Lfyt. "
   ]
  },
  {
   "cell_type": "markdown",
   "metadata": {},
   "source": [
    "## Bagaimana Hubungan antara harga dengan jarak"
   ]
  },
  {
   "cell_type": "code",
   "execution_count": 21,
   "metadata": {},
   "outputs": [
    {
     "name": "stderr",
     "output_type": "stream",
     "text": [
      "c:\\Users\\Kelvin Rizky\\miniconda3\\lib\\site-packages\\seaborn\\_oldcore.py:1119: FutureWarning: use_inf_as_na option is deprecated and will be removed in a future version. Convert inf values to NaN before operating instead.\n",
      "  with pd.option_context('mode.use_inf_as_na', True):\n",
      "c:\\Users\\Kelvin Rizky\\miniconda3\\lib\\site-packages\\seaborn\\_oldcore.py:1119: FutureWarning: use_inf_as_na option is deprecated and will be removed in a future version. Convert inf values to NaN before operating instead.\n",
      "  with pd.option_context('mode.use_inf_as_na', True):\n"
     ]
    },
    {
     "data": {
      "text/plain": [
       "<seaborn.axisgrid.FacetGrid at 0x1d39c55c220>"
      ]
     },
     "execution_count": 21,
     "metadata": {},
     "output_type": "execute_result"
    },
    {
     "data": {
      "image/png": "[encoded data removed]",
      "text/plain": [
       "<Figure size 500x500 with 1 Axes>"
      ]
     },
     "metadata": {},
     "output_type": "display_data"
    }
   ],
   "source": [
    "# Menampilkan grafik korelasi price dengan distance\n",
    "sns.set(rc={'figure.figsize':(8,5)})\n",
    "sns.relplot(kind='line',\n",
    "            x='distance',\n",
    "            y='price',\n",
    "            data=df_rate,\n",
    "           )"
   ]
  },
  {
   "cell_type": "markdown",
   "metadata": {},
   "source": [
    "Berdasarkan visualisasi diatas terdapat korelasi positif antara **jarak** dengan **harga** dimana semakin jauh jarak maka akan meningkatkan harga."
   ]
  },
  {
   "cell_type": "markdown",
   "metadata": {},
   "source": [
    "## Berapa banyak pemesanan berdasarkan cuaca"
   ]
  },
  {
   "cell_type": "code",
   "execution_count": 22,
   "metadata": {},
   "outputs": [
    {
     "data": {
      "text/plain": [
       "<Axes: xlabel='short_summary', ylabel='count'>"
      ]
     },
     "execution_count": 22,
     "metadata": {},
     "output_type": "execute_result"
    },
    {
     "data": {
      "image/png": "[encoded data removed]",
      "text/plain": [
       "<Figure size 1200x600 with 1 Axes>"
      ]
     },
     "metadata": {},
     "output_type": "display_data"
    }
   ],
   "source": [
    "# Menampilkan barplot pada data short_summary\n",
    "sns.set(rc={'figure.figsize':(12,6)})\n",
    "sns.countplot(x='short_summary', data=df_rate)"
   ]
  },
  {
   "cell_type": "markdown",
   "metadata": {},
   "source": [
    "Berdasarkan visualisasi diatas, banyaknya pemesanan layanan transportasi didominasi oleh **Overcast**, diikuti oleh **Mostly Cloud** dan **Partly Cloud** "
   ]
  },
  {
   "cell_type": "markdown",
   "metadata": {},
   "source": [
    "# Feature Engineering"
   ]
  },
  {
   "cell_type": "markdown",
   "metadata": {},
   "source": [
    "## Split Data X dan Y"
   ]
  },
  {
   "cell_type": "code",
   "execution_count": 23,
   "metadata": {},
   "outputs": [
    {
     "data": {
      "text/html": [
       "<div>\n",
       "<style scoped>\n",
       "    .dataframe tbody tr th:only-of-type {\n",
       "        vertical-align: middle;\n",
       "    }\n",
       "\n",
       "    .dataframe tbody tr th {\n",
       "        vertical-align: top;\n",
       "    }\n",
       "\n",
       "    .dataframe thead th {\n",
       "        text-align: right;\n",
       "    }\n",
       "</style>\n",
       "<table border=\"1\" class=\"dataframe\">\n",
       "  <thead>\n",
       "    <tr style=\"text-align: right;\">\n",
       "      <th></th>\n",
       "      <th>id</th>\n",
       "      <th>timestamp</th>\n",
       "      <th>hour</th>\n",
       "      <th>day</th>\n",
       "      <th>month</th>\n",
       "      <th>datetime</th>\n",
       "      <th>timezone</th>\n",
       "      <th>source</th>\n",
       "      <th>destination</th>\n",
       "      <th>cab_type</th>\n",
       "      <th>...</th>\n",
       "      <th>precipIntensityMax</th>\n",
       "      <th>uvIndexTime</th>\n",
       "      <th>temperatureMin</th>\n",
       "      <th>temperatureMinTime</th>\n",
       "      <th>temperatureMax</th>\n",
       "      <th>temperatureMaxTime</th>\n",
       "      <th>apparentTemperatureMin</th>\n",
       "      <th>apparentTemperatureMinTime</th>\n",
       "      <th>apparentTemperatureMax</th>\n",
       "      <th>apparentTemperatureMaxTime</th>\n",
       "    </tr>\n",
       "  </thead>\n",
       "  <tbody>\n",
       "    <tr>\n",
       "      <th>0</th>\n",
       "      <td>424553bb-7174-41ea-aeb4-fe06d4f4b9d7</td>\n",
       "      <td>1.544953e+09</td>\n",
       "      <td>9</td>\n",
       "      <td>16</td>\n",
       "      <td>12</td>\n",
       "      <td>2018-12-16 09:30:07</td>\n",
       "      <td>America/New_York</td>\n",
       "      <td>Haymarket Square</td>\n",
       "      <td>North Station</td>\n",
       "      <td>Lyft</td>\n",
       "      <td>...</td>\n",
       "      <td>0.1276</td>\n",
       "      <td>1544979600</td>\n",
       "      <td>39.89</td>\n",
       "      <td>1545012000</td>\n",
       "      <td>43.68</td>\n",
       "      <td>1544968800</td>\n",
       "      <td>33.73</td>\n",
       "      <td>1545012000</td>\n",
       "      <td>38.07</td>\n",
       "      <td>1544958000</td>\n",
       "    </tr>\n",
       "    <tr>\n",
       "      <th>1</th>\n",
       "      <td>4bd23055-6827-41c6-b23b-3c491f24e74d</td>\n",
       "      <td>1.543284e+09</td>\n",
       "      <td>2</td>\n",
       "      <td>27</td>\n",
       "      <td>11</td>\n",
       "      <td>2018-11-27 02:00:23</td>\n",
       "      <td>America/New_York</td>\n",
       "      <td>Haymarket Square</td>\n",
       "      <td>North Station</td>\n",
       "      <td>Lyft</td>\n",
       "      <td>...</td>\n",
       "      <td>0.1300</td>\n",
       "      <td>1543251600</td>\n",
       "      <td>40.49</td>\n",
       "      <td>1543233600</td>\n",
       "      <td>47.30</td>\n",
       "      <td>1543251600</td>\n",
       "      <td>36.20</td>\n",
       "      <td>1543291200</td>\n",
       "      <td>43.92</td>\n",
       "      <td>1543251600</td>\n",
       "    </tr>\n",
       "    <tr>\n",
       "      <th>2</th>\n",
       "      <td>981a3613-77af-4620-a42a-0c0866077d1e</td>\n",
       "      <td>1.543367e+09</td>\n",
       "      <td>1</td>\n",
       "      <td>28</td>\n",
       "      <td>11</td>\n",
       "      <td>2018-11-28 01:00:22</td>\n",
       "      <td>America/New_York</td>\n",
       "      <td>Haymarket Square</td>\n",
       "      <td>North Station</td>\n",
       "      <td>Lyft</td>\n",
       "      <td>...</td>\n",
       "      <td>0.1064</td>\n",
       "      <td>1543338000</td>\n",
       "      <td>35.36</td>\n",
       "      <td>1543377600</td>\n",
       "      <td>47.55</td>\n",
       "      <td>1543320000</td>\n",
       "      <td>31.04</td>\n",
       "      <td>1543377600</td>\n",
       "      <td>44.12</td>\n",
       "      <td>1543320000</td>\n",
       "    </tr>\n",
       "    <tr>\n",
       "      <th>3</th>\n",
       "      <td>c2d88af2-d278-4bfd-a8d0-29ca77cc5512</td>\n",
       "      <td>1.543554e+09</td>\n",
       "      <td>4</td>\n",
       "      <td>30</td>\n",
       "      <td>11</td>\n",
       "      <td>2018-11-30 04:53:02</td>\n",
       "      <td>America/New_York</td>\n",
       "      <td>Haymarket Square</td>\n",
       "      <td>North Station</td>\n",
       "      <td>Lyft</td>\n",
       "      <td>...</td>\n",
       "      <td>0.0000</td>\n",
       "      <td>1543507200</td>\n",
       "      <td>34.67</td>\n",
       "      <td>1543550400</td>\n",
       "      <td>45.03</td>\n",
       "      <td>1543510800</td>\n",
       "      <td>30.30</td>\n",
       "      <td>1543550400</td>\n",
       "      <td>38.53</td>\n",
       "      <td>1543510800</td>\n",
       "    </tr>\n",
       "    <tr>\n",
       "      <th>4</th>\n",
       "      <td>e0126e1f-8ca9-4f2e-82b3-50505a09db9a</td>\n",
       "      <td>1.543463e+09</td>\n",
       "      <td>3</td>\n",
       "      <td>29</td>\n",
       "      <td>11</td>\n",
       "      <td>2018-11-29 03:49:20</td>\n",
       "      <td>America/New_York</td>\n",
       "      <td>Haymarket Square</td>\n",
       "      <td>North Station</td>\n",
       "      <td>Lyft</td>\n",
       "      <td>...</td>\n",
       "      <td>0.0001</td>\n",
       "      <td>1543420800</td>\n",
       "      <td>33.10</td>\n",
       "      <td>1543402800</td>\n",
       "      <td>42.18</td>\n",
       "      <td>1543420800</td>\n",
       "      <td>29.11</td>\n",
       "      <td>1543392000</td>\n",
       "      <td>35.75</td>\n",
       "      <td>1543420800</td>\n",
       "    </tr>\n",
       "  </tbody>\n",
       "</table>\n",
       "<p>5 rows × 56 columns</p>\n",
       "</div>"
      ],
      "text/plain": [
       "                                     id     timestamp  hour  day  month  \\\n",
       "0  424553bb-7174-41ea-aeb4-fe06d4f4b9d7  1.544953e+09     9   16     12   \n",
       "1  4bd23055-6827-41c6-b23b-3c491f24e74d  1.543284e+09     2   27     11   \n",
       "2  981a3613-77af-4620-a42a-0c0866077d1e  1.543367e+09     1   28     11   \n",
       "3  c2d88af2-d278-4bfd-a8d0-29ca77cc5512  1.543554e+09     4   30     11   \n",
       "4  e0126e1f-8ca9-4f2e-82b3-50505a09db9a  1.543463e+09     3   29     11   \n",
       "\n",
       "              datetime          timezone            source    destination  \\\n",
       "0  2018-12-16 09:30:07  America/New_York  Haymarket Square  North Station   \n",
       "1  2018-11-27 02:00:23  America/New_York  Haymarket Square  North Station   \n",
       "2  2018-11-28 01:00:22  America/New_York  Haymarket Square  North Station   \n",
       "3  2018-11-30 04:53:02  America/New_York  Haymarket Square  North Station   \n",
       "4  2018-11-29 03:49:20  America/New_York  Haymarket Square  North Station   \n",
       "\n",
       "  cab_type  ... precipIntensityMax uvIndexTime  temperatureMin  \\\n",
       "0     Lyft  ...             0.1276  1544979600           39.89   \n",
       "1     Lyft  ...             0.1300  1543251600           40.49   \n",
       "2     Lyft  ...             0.1064  1543338000           35.36   \n",
       "3     Lyft  ...             0.0000  1543507200           34.67   \n",
       "4     Lyft  ...             0.0001  1543420800           33.10   \n",
       "\n",
       "   temperatureMinTime  temperatureMax  temperatureMaxTime  \\\n",
       "0          1545012000           43.68          1544968800   \n",
       "1          1543233600           47.30          1543251600   \n",
       "2          1543377600           47.55          1543320000   \n",
       "3          1543550400           45.03          1543510800   \n",
       "4          1543402800           42.18          1543420800   \n",
       "\n",
       "   apparentTemperatureMin  apparentTemperatureMinTime apparentTemperatureMax  \\\n",
       "0                   33.73                  1545012000                  38.07   \n",
       "1                   36.20                  1543291200                  43.92   \n",
       "2                   31.04                  1543377600                  44.12   \n",
       "3                   30.30                  1543550400                  38.53   \n",
       "4                   29.11                  1543392000                  35.75   \n",
       "\n",
       "  apparentTemperatureMaxTime  \n",
       "0                 1544958000  \n",
       "1                 1543251600  \n",
       "2                 1543320000  \n",
       "3                 1543510800  \n",
       "4                 1543420800  \n",
       "\n",
       "[5 rows x 56 columns]"
      ]
     },
     "execution_count": 23,
     "metadata": {},
     "output_type": "execute_result"
    }
   ],
   "source": [
    "# Melakukan split data x dan y\n",
    "\n",
    "X = df.drop(['price'],axis=1)\n",
    "y = df.price\n",
    "\n",
    "X.head()"
   ]
  },
  {
   "cell_type": "markdown",
   "metadata": {},
   "source": [
    "Membagi data x dan y dengan variabel y sebagai target **price** dan membuang variabel **price** pada variabel x."
   ]
  },
  {
   "cell_type": "code",
   "execution_count": 24,
   "metadata": {},
   "outputs": [
    {
     "name": "stdout",
     "output_type": "stream",
     "text": [
      "X Train Size : (554456, 56)\n",
      "X Test Size : (138615, 56)\n",
      "y Train Size : (554456,)\n",
      "y Test Size : (138615,)\n"
     ]
    }
   ],
   "source": [
    "# Melakukan split antara data train dan test menggunakan train_test_split\n",
    "X_train, X_test, y_train, y_test = train_test_split(X, y, test_size=0.2, random_state=10)\n",
    "\n",
    "print('X Train Size :', X_train.shape)\n",
    "print('X Test Size :', X_test.shape)\n",
    "print('y Train Size :', y_train.shape)\n",
    "print('y Test Size :', y_test.shape)"
   ]
  },
  {
   "cell_type": "markdown",
   "metadata": {},
   "source": [
    "Membagi data test dan train pada variabel X dan y, menjadi X_train, X_test, y_train, y_test, dimana pada data **train** terdapat 554456 baris dan 56 kolom dan pada data **test** terdapat 138615 baris."
   ]
  },
  {
   "cell_type": "markdown",
   "metadata": {},
   "source": [
    "## Outlier Handling"
   ]
  },
  {
   "cell_type": "code",
   "execution_count": 25,
   "metadata": {},
   "outputs": [
    {
     "name": "stdout",
     "output_type": "stream",
     "text": [
      "Distribution of column `distance`  :  0.8360620556732666\n"
     ]
    }
   ],
   "source": [
    "# Melakukan pengecekann distribusi dengan menggunakan skewness\n",
    "\n",
    "print('Distribution of column `distance`  : ', X_train['distance'].skew())"
   ]
  },
  {
   "cell_type": "markdown",
   "metadata": {},
   "source": [
    "Karena hasil dari kedua distribusi pada distance dan surge_multiplier lebih dari 0.5, oleh karena itu dapat disimpulkan bahwa terdapat distribusi skewness pada kedua variabel."
   ]
  },
  {
   "cell_type": "code",
   "execution_count": 26,
   "metadata": {},
   "outputs": [],
   "source": [
    "# Membuat fungsi untuk mendapatkan nilai batas atas dan batas bawah pada kolom distance\n",
    "def find_skewed_boundaries(df, variable, distance):\n",
    "    IQR = df[variable].quantile(0.75) - df[variable].quantile(0.25)\n",
    "\n",
    "    lower_boundary = df[variable].quantile(0.25) - (IQR * distance)\n",
    "    upper_boundary = df[variable].quantile(0.75) + (IQR * distance)\n",
    "\n",
    "    return upper_boundary, lower_boundary"
   ]
  },
  {
   "cell_type": "markdown",
   "metadata": {},
   "source": [
    "Membuat fungsi untuk mendapatkan nilai batas atas dan batas bawah yang nantinya digunakan pada kolom-kolom untuk melakukan treatment pada data outlier."
   ]
  },
  {
   "cell_type": "code",
   "execution_count": 27,
   "metadata": {},
   "outputs": [
    {
     "data": {
      "text/plain": [
       "(5.42, -1.2200000000000002)"
      ]
     },
     "execution_count": 27,
     "metadata": {},
     "output_type": "execute_result"
    }
   ],
   "source": [
    "#Mengindentifikasi outlier distance, dengan distance menggunakan extreme value menggunakan IQR * 1.5\n",
    "\n",
    "upper_boundary_distance, lower_boundary_distance = find_skewed_boundaries(X_train, 'distance', 1.5)\n",
    "upper_boundary_distance, lower_boundary_distance\n"
   ]
  },
  {
   "cell_type": "markdown",
   "metadata": {},
   "source": [
    "Pada kolom distance **nilai batas atas**nya adalah 5.445 dan **nilai batas bawah**nya adalah -1.234"
   ]
  },
  {
   "cell_type": "code",
   "execution_count": 28,
   "metadata": {},
   "outputs": [
    {
     "name": "stdout",
     "output_type": "stream",
     "text": [
      "Total : 554456\n",
      "Distance diatas batas atas  : 6183\n",
      "\n",
      "% Distance diatas batas atas  : 1.1151470991386152\n"
     ]
    }
   ],
   "source": [
    "# Mengecek distance yang memiliki nilai diatas batas atas\n",
    "\n",
    "print('Total : {}'.format(len(X_train)))\n",
    "print('Distance diatas batas atas  : {}'.format(len(X_train[X_train['distance'] > upper_boundary_distance])))\n",
    "print('')\n",
    "print('% Distance diatas batas atas  : {}'.format(len(X_train[X_train['distance'] > upper_boundary_distance])/len(X_train) * 100))"
   ]
  },
  {
   "cell_type": "markdown",
   "metadata": {},
   "source": [
    "Karena presentase outlier yang kurang dari 5 persen pada kolom distance, oleh karena itu dapat dilakukan trimming pada kolom distance."
   ]
  },
  {
   "cell_type": "code",
   "execution_count": 29,
   "metadata": {},
   "outputs": [
    {
     "name": "stdout",
     "output_type": "stream",
     "text": [
      "Upper Bound: 42.75\n",
      "Lower Bound: -11.25\n"
     ]
    }
   ],
   "source": [
    "# Hitung IQR (Interquartile Range) pada y_train\n",
    "Q1 = y_train.quantile(0.25)\n",
    "Q3 = y_train.quantile(0.75)\n",
    "IQR = Q3 - Q1\n",
    "\n",
    "# Hitung Upper Bound dan Lower Bound\n",
    "upper_bound = Q3 + 1.5 * IQR\n",
    "lower_bound = Q1 - 1.5 * IQR\n",
    "\n",
    "# Cetak Upper Bound dan Lower Bound\n",
    "print(\"Upper Bound:\", upper_bound)\n",
    "print(\"Lower Bound:\", lower_bound)"
   ]
  },
  {
   "cell_type": "markdown",
   "metadata": {},
   "source": [
    "Pada data **y_train** terdapat nilai batas atas sebesar 42.75 dan nilai batas bawah sebesar -11.25"
   ]
  },
  {
   "cell_type": "markdown",
   "metadata": {},
   "source": [
    "### Trimming"
   ]
  },
  {
   "cell_type": "markdown",
   "metadata": {},
   "source": [
    "Menggunakan trimming mengingat presentase outlier terhadap data tidak terlalu besar, oleh karena itu data dapat di drop."
   ]
  },
  {
   "cell_type": "code",
   "execution_count": 30,
   "metadata": {},
   "outputs": [
    {
     "name": "stdout",
     "output_type": "stream",
     "text": [
      "Size dataset X_train - Before trimming :  (554456, 56)\n",
      "Size dataset X_train - After trimming  :  (548273, 56)\n",
      "Size dataset y_train - Before trimming :  (554456,)\n",
      "Size dataset y_train - After trimming  :  (548273,)\n"
     ]
    }
   ],
   "source": [
    "# Membuat variabel outlier pada distance\n",
    "outliers_distance = np.where(X_train['distance'] > upper_boundary_distance, True,\n",
    "                       np.where(X_train['distance'] < lower_boundary_distance, True, False))\n",
    "\n",
    "# Membuat variabel outlier pada y_train\n",
    "outliers_y_train = np.where(y_train > upper_bound, True,\n",
    "                            np.where(y_train < lower_bound, True, False))\n",
    "\n",
    "# Melakukan trimming pada kolom distance.\n",
    "trim_mask_X_train = ~(outliers_distance)\n",
    "\n",
    "# Memasukkan hasil trimming X train pada y_train\n",
    "y_train_trimmed = y_train[trim_mask_X_train]\n",
    "\n",
    "# Memasukkan hasil trimming X train pada X_train\n",
    "X_train_trimmed = X_train[trim_mask_X_train]\n",
    "\n",
    "\n",
    "\n",
    "print('Size dataset X_train - Before trimming : ', X_train.shape)\n",
    "print('Size dataset X_train - After trimming  : ', X_train_trimmed.shape)\n",
    "\n",
    "print('Size dataset y_train - Before trimming : ', y_train.shape)\n",
    "print('Size dataset y_train - After trimming  : ', y_train_trimmed.shape)"
   ]
  },
  {
   "cell_type": "markdown",
   "metadata": {},
   "source": [
    "Melakukan trimming pada X_train, tepatnya pada kolom distance karena terdapat outlier.. Adapun tahapannya adalah mencari outliernya terlebih dahulu dan dan melakukan trimming pada X_train. Kemudian, memasukkan hasil trimming ke dalam X_train dan y_train. Didapatakan bahwa terjadi pengurangan data dari 408256 baris menjadi 404131 baris  dan tetap 3 kolom pada data **X_train** dan 408256 baris menjadi 404131 baris pada data **y_train**."
   ]
  },
  {
   "cell_type": "code",
   "execution_count": 31,
   "metadata": {},
   "outputs": [
    {
     "name": "stdout",
     "output_type": "stream",
     "text": [
      "Distribution of column `distance`  :  0.4646337956409789\n"
     ]
    }
   ],
   "source": [
    "# Menampilkan distribusi \n",
    "print('Distribution of column `distance`  : ', X_train_trimmed['distance'].skew())"
   ]
  },
  {
   "cell_type": "markdown",
   "metadata": {},
   "source": [
    "Dalam hal ini mengecek distribusi data pada **distance** dan didapatkan bahwa distribusi datanya menjadi normal."
   ]
  },
  {
   "cell_type": "markdown",
   "metadata": {},
   "source": [
    "## Handling Missing Value"
   ]
  },
  {
   "cell_type": "code",
   "execution_count": 32,
   "metadata": {},
   "outputs": [
    {
     "name": "stdout",
     "output_type": "stream",
     "text": [
      "X Train Size : (504969, 56)\n",
      "X Test Size : (127655, 56)\n",
      "y Train Size : (504969,)\n",
      "y Test Size : (127655,)\n"
     ]
    }
   ],
   "source": [
    "# mencari indeks baris yang memiliki nilai null di y_train\n",
    "index_null_y_train = y_train_trimmed[y_train_trimmed.isnull()].index\n",
    "\n",
    "# drop baris yang memiliki nilai null di y_train\n",
    "X_train_cleaned = X_train_trimmed.drop(index_null_y_train)\n",
    "y_train_cleaned = y_train_trimmed.drop(index_null_y_train)\n",
    "\n",
    "# mencari indeks baris yang memiliki nilai null di y_test\n",
    "index_null_y_test = y_test[y_test.isnull()].index\n",
    "\n",
    "# drop baris yang memiliki nilai null di y_test\n",
    "X_test_cleaned = X_test.drop(index_null_y_test)\n",
    "y_test_cleaned = y_test.drop(index_null_y_test)\n",
    "\n",
    "print('X Train Size :', X_train_cleaned.shape)\n",
    "print('X Test Size :', X_test_cleaned.shape)\n",
    "print('y Train Size :', y_train_cleaned.shape)\n",
    "print('y Test Size :', y_test_cleaned.shape)"
   ]
  },
  {
   "cell_type": "markdown",
   "metadata": {},
   "source": [
    "Melakukan handling missing value pada data train dan test dengan cara membuang data tersebut. Adapun tahapannya adalah mencari index dimana terdapat missing value dan melakukan drop missing value berdasarkan index. Didapatakan terdapat 510321 baris dan 56 kolom pada data **train** dan 127655 baris pada data **test**."
   ]
  },
  {
   "cell_type": "markdown",
   "metadata": {},
   "source": [
    "## Feature Selection"
   ]
  },
  {
   "cell_type": "code",
   "execution_count": 33,
   "metadata": {},
   "outputs": [],
   "source": [
    "#Menggabungkan data x-train dan y-train \n",
    "train_set = pd.concat([X_train_cleaned, y_train_cleaned], axis = 1)\n",
    "test_set = pd.concat([X_test_cleaned, y_test_cleaned], axis = 1)"
   ]
  },
  {
   "cell_type": "markdown",
   "metadata": {},
   "source": [
    "Menggabungkan data **train** dan **test** yang sudah dilakukan handling missing value dengan menggunakan concat. Adapun tujuannya adalah ingin mencari korelasi antara **price** dengan seluruh kolom pada dataset."
   ]
  },
  {
   "cell_type": "code",
   "execution_count": 34,
   "metadata": {},
   "outputs": [
    {
     "data": {
      "text/plain": [
       "['timestamp',\n",
       " 'hour',\n",
       " 'day',\n",
       " 'month',\n",
       " 'price',\n",
       " 'distance',\n",
       " 'surge_multiplier',\n",
       " 'latitude',\n",
       " 'longitude',\n",
       " 'temperature',\n",
       " 'apparentTemperature',\n",
       " 'precipIntensity',\n",
       " 'precipProbability',\n",
       " 'humidity',\n",
       " 'windSpeed',\n",
       " 'windGust',\n",
       " 'windGustTime',\n",
       " 'visibility',\n",
       " 'temperatureHigh',\n",
       " 'temperatureHighTime',\n",
       " 'temperatureLow',\n",
       " 'temperatureLowTime',\n",
       " 'apparentTemperatureHigh',\n",
       " 'apparentTemperatureHighTime',\n",
       " 'apparentTemperatureLow',\n",
       " 'apparentTemperatureLowTime',\n",
       " 'dewPoint',\n",
       " 'pressure',\n",
       " 'windBearing',\n",
       " 'cloudCover',\n",
       " 'uvIndex',\n",
       " 'visibility.1',\n",
       " 'ozone',\n",
       " 'sunriseTime',\n",
       " 'sunsetTime',\n",
       " 'moonPhase',\n",
       " 'precipIntensityMax',\n",
       " 'uvIndexTime',\n",
       " 'temperatureMin',\n",
       " 'temperatureMinTime',\n",
       " 'temperatureMax',\n",
       " 'temperatureMaxTime',\n",
       " 'apparentTemperatureMin',\n",
       " 'apparentTemperatureMinTime',\n",
       " 'apparentTemperatureMax',\n",
       " 'apparentTemperatureMaxTime']"
      ]
     },
     "execution_count": 34,
     "metadata": {},
     "output_type": "execute_result"
    }
   ],
   "source": [
    "#Mengubah tipe data menjadi tipe data categorical jika nominal atau ordinal dan tipe data interval jika numerik\n",
    "train_set_types = {\n",
    "\n",
    "    \"id\":\"categorical\", \n",
    "    \"timestamp\":\"interval\",\n",
    "    \"hour\":\"interval\",  \n",
    "    \"day\":\"interval\",  \n",
    "    \"month\":\"interval\",  \n",
    "    \"datetime\":\"categorical\", \n",
    "    \"timezone\":\"categorical\", \n",
    "    \"source\":\"categorical\", \n",
    "    \"destination\":\"categorical\", \n",
    "    \"cab_type\":\"categorical\", \n",
    "    \"product_id\":\"categorical\", \n",
    "    \"name\":\"categorical\", \n",
    "    \"price\":\"interval\",\n",
    "    \"distance\":\"interval\",\n",
    "    \"surge_multiplier\":\"interval\",\n",
    "    \"latitude\":\"interval\",\n",
    "    \"longitude\":\"interval\",\n",
    "    \"temperature\":\"interval\",\n",
    "    \"apparentTemperature\":\"interval\",\n",
    "    \"short_summary\":\"categorical\", \n",
    "    \"long_summary\":\"categorical\", \n",
    "    \"precipIntensity\":\"interval\",\n",
    "    \"precipProbability\":\"interval\",\n",
    "    \"humidity\":\"interval\",\n",
    "    \"windSpeed\":\"interval\",\n",
    "    \"windGust\":\"interval\",\n",
    "    \"windGustTime\":\"interval\", \n",
    "    \"visibility\":\"interval\",\n",
    "    \"temperatureHigh\":\"interval\",\n",
    "    \"temperatureHighTime\":\"interval\",  \n",
    "    \"temperatureLow\":\"interval\",\n",
    "    \"temperatureLowTime\":\"interval\", \n",
    "    \"apparentTemperatureHigh\":\"interval\",\n",
    "    \"apparentTemperatureHighTime\":\"interval\",  \n",
    "    \"apparentTemperatureLow\":\"interval\",\n",
    "    \"apparentTemperatureLowTime\":\"interval\",  \n",
    "    \"icon\":\"categorical\", \n",
    "    \"dewPoint\":\"interval\",\n",
    "    \"pressure\":\"interval\",\n",
    "    \"windBearing\":\"interval\",  \n",
    "    \"cloudCover\":\"interval\",\n",
    "    \"uvIndex\":\"interval\",  \n",
    "    \"visibility.1\":\"interval\",\n",
    "    \"ozone\":\"interval\",\n",
    "    \"sunriseTime\":\"interval\",  \n",
    "    \"sunsetTime\":\"interval\",  \n",
    "    \"moonPhase\":\"interval\",\n",
    "    \"precipIntensityMax\":\"interval\",\n",
    "    \"uvIndexTime\":\"interval\",  \n",
    "    \"temperatureMin\":\"interval\",\n",
    "    \"temperatureMinTime\":\"interval\",  \n",
    "    \"temperatureMax\":\"interval\",\n",
    "    \"temperatureMaxTime\":\"interval\",  \n",
    "    \"apparentTemperatureMin\":\"interval\",\n",
    "    \"apparentTemperatureMinTime\":\"interval\",  \n",
    "    \"apparentTemperatureMax\":\"interval\",\n",
    "    \"apparentTemperatureMaxTime\":\"interval\"  \n",
    "}\n",
    "\n",
    "interval_cols = [col for col, v in train_set_types.items() if v=='interval' and col in train_set.columns]\n",
    "interval_cols\n"
   ]
  },
  {
   "cell_type": "markdown",
   "metadata": {},
   "source": [
    "Mengubah data **numerik** menjadi data **interval** dan mengubah data **string** atau **object** menjadi **categorical** untuk membuat korelasi menggunakan phik matriks."
   ]
  },
  {
   "cell_type": "code",
   "execution_count": 35,
   "metadata": {},
   "outputs": [
    {
     "name": "stderr",
     "output_type": "stream",
     "text": [
      "c:\\Users\\Kelvin Rizky\\miniconda3\\lib\\site-packages\\phik\\data_quality.py:82: UserWarning: Not enough unique value for variable timezone for analysis 1. Dropping this column\n",
      "  warnings.warn(\n"
     ]
    },
    {
     "data": {
      "text/plain": [
       "hour                           0.000000\n",
       "day                            0.000000\n",
       "month                          0.004074\n",
       "source                         0.165383\n",
       "destination                    0.154053\n",
       "cab_type                       0.146287\n",
       "product_id                     0.677581\n",
       "name                           0.677581\n",
       "price                          1.000000\n",
       "distance                       0.435798\n",
       "surge_multiplier               0.356672\n",
       "latitude                       0.000000\n",
       "longitude                      0.000000\n",
       "temperature                    0.000000\n",
       "apparentTemperature            0.000000\n",
       "short_summary                  0.000000\n",
       "long_summary                   0.001424\n",
       "precipIntensity                0.000000\n",
       "precipProbability              0.004060\n",
       "humidity                       0.000000\n",
       "windSpeed                      0.000000\n",
       "windGust                       0.002653\n",
       "windGustTime                   0.000000\n",
       "visibility                     0.001513\n",
       "temperatureHigh                0.000000\n",
       "temperatureHighTime            0.000000\n",
       "temperatureLow                 0.000000\n",
       "temperatureLowTime             0.000000\n",
       "apparentTemperatureHigh        0.000000\n",
       "apparentTemperatureHighTime    0.000000\n",
       "apparentTemperatureLow         0.000000\n",
       "apparentTemperatureLowTime     0.000000\n",
       "icon                           0.000000\n",
       "dewPoint                       0.000000\n",
       "pressure                       0.002868\n",
       "windBearing                    0.000000\n",
       "cloudCover                     0.000000\n",
       "uvIndex                        0.000000\n",
       "visibility.1                   0.001513\n",
       "ozone                          0.000000\n",
       "sunriseTime                    0.000000\n",
       "sunsetTime                     0.000000\n",
       "moonPhase                      0.000000\n",
       "precipIntensityMax             0.000000\n",
       "uvIndexTime                    0.000000\n",
       "temperatureMin                 0.000000\n",
       "temperatureMinTime             0.000000\n",
       "temperatureMax                 0.000000\n",
       "temperatureMaxTime             0.000000\n",
       "apparentTemperatureMin         0.000000\n",
       "apparentTemperatureMinTime     0.000000\n",
       "apparentTemperatureMax         0.000000\n",
       "apparentTemperatureMaxTime     0.000000\n",
       "Name: price, dtype: float64"
      ]
     },
     "execution_count": 35,
     "metadata": {},
     "output_type": "execute_result"
    }
   ],
   "source": [
    "# Menampilkan korelasi antar kolom prediktor dengan target (y)\n",
    "\n",
    "df.drop([\"id\", \"timestamp\", \"datetime\"], axis = 1).phik_matrix(interval_cols = interval_cols)[\"price\"]"
   ]
  },
  {
   "cell_type": "markdown",
   "metadata": {},
   "source": [
    "Berdasarkan hasil korelasi phix matrix dapat disimpulkan bahwa variabel independen yang akan digunakan untuk memprediksi prekdiktor **price** adalah **name, distance, surge_multiplier**, karena ketiga variabel tersebut memiliki korelasi yang cukup tinggi dibandingkan dengan korelasi kolom lainnya. "
   ]
  },
  {
   "cell_type": "code",
   "execution_count": 36,
   "metadata": {},
   "outputs": [],
   "source": [
    "# Mengambil fitur-fitur yang memiliki korelasi dengan prediktor, dimana fitur tersebut dimasukkan ke dalam variabel X train, dan price pada variabel y.\n",
    "X = train_set[['name', 'distance', 'surge_multiplier']]\n",
    "y = train_set['price']"
   ]
  },
  {
   "cell_type": "markdown",
   "metadata": {},
   "source": [
    "Dalam hal ini mengambil kolom-kolom yang memiliki korelasi yang kuat dengan **price**. Kemudian kolom-kolom tersebut dimasukkan ke dalam variabel X pada data train_set dan memasukkan price ke dalam variabel y pada data train_set."
   ]
  },
  {
   "cell_type": "code",
   "execution_count": 37,
   "metadata": {},
   "outputs": [
    {
     "name": "stdout",
     "output_type": "stream",
     "text": [
      "X Train Size : (403975, 3)\n",
      "X Test Size : (100994, 3)\n",
      "y Train Size : (403975,)\n",
      "y Test Size : (100994,)\n"
     ]
    }
   ],
   "source": [
    "# Split variabel X dan y menjadi 2 bagian, yaitu train dan test.\n",
    "X_train, X_test, y_train, y_test = train_test_split(X, y, test_size=0.2, random_state=10)\n",
    "\n",
    "print('X Train Size :', X_train.shape)\n",
    "print('X Test Size :', X_test.shape)\n",
    "print('y Train Size :', y_train.shape)\n",
    "print('y Test Size :', y_test.shape)"
   ]
  },
  {
   "cell_type": "markdown",
   "metadata": {},
   "source": [
    "Setelah mengambil kolom-kolom yang sudah dipilih, kemudian melakukan split lagi pada data train dan test. Adapun setelah dilakukan split data train set didapatakan bahwa pada data **train** terdapat 408256 baris dan 3 kolom dan pada data **test** terdapat 408256 baris."
   ]
  },
  {
   "cell_type": "markdown",
   "metadata": {},
   "source": [
    "## Split Numerical dan Categorical Columns"
   ]
  },
  {
   "cell_type": "code",
   "execution_count": 38,
   "metadata": {},
   "outputs": [
    {
     "name": "stdout",
     "output_type": "stream",
     "text": [
      "Numerical column: ['distance', 'surge_multiplier']\n",
      "Categorical column: ['name']\n"
     ]
    }
   ],
   "source": [
    "# Membagi kolom kategori dan numerik pada variabel X\n",
    "num_col = X_train.select_dtypes(include=np.number).columns.tolist()\n",
    "cat_col = X_test.select_dtypes(include=['object']).columns.tolist()\n",
    "\n",
    "print('Numerical column:',num_col)\n",
    "print('Categorical column:',cat_col)"
   ]
  },
  {
   "cell_type": "markdown",
   "metadata": {},
   "source": [
    "Membuat data **numerik** dan data **kategorikal** berdasarkan tipe data kolomnya. Kemudian memasukkan data numerik pada data **X_train** dan memasukkan data kategori pada data **X_test**"
   ]
  },
  {
   "cell_type": "code",
   "execution_count": 39,
   "metadata": {},
   "outputs": [
    {
     "data": {
      "text/html": [
       "<div>\n",
       "<style scoped>\n",
       "    .dataframe tbody tr th:only-of-type {\n",
       "        vertical-align: middle;\n",
       "    }\n",
       "\n",
       "    .dataframe tbody tr th {\n",
       "        vertical-align: top;\n",
       "    }\n",
       "\n",
       "    .dataframe thead th {\n",
       "        text-align: right;\n",
       "    }\n",
       "</style>\n",
       "<table border=\"1\" class=\"dataframe\">\n",
       "  <thead>\n",
       "    <tr style=\"text-align: right;\">\n",
       "      <th></th>\n",
       "      <th>distance</th>\n",
       "      <th>surge_multiplier</th>\n",
       "    </tr>\n",
       "  </thead>\n",
       "  <tbody>\n",
       "    <tr>\n",
       "      <th>81068</th>\n",
       "      <td>0.68</td>\n",
       "      <td>1.0</td>\n",
       "    </tr>\n",
       "    <tr>\n",
       "      <th>328075</th>\n",
       "      <td>2.30</td>\n",
       "      <td>1.0</td>\n",
       "    </tr>\n",
       "    <tr>\n",
       "      <th>108386</th>\n",
       "      <td>2.70</td>\n",
       "      <td>1.0</td>\n",
       "    </tr>\n",
       "    <tr>\n",
       "      <th>458037</th>\n",
       "      <td>1.71</td>\n",
       "      <td>1.0</td>\n",
       "    </tr>\n",
       "    <tr>\n",
       "      <th>230894</th>\n",
       "      <td>3.24</td>\n",
       "      <td>1.0</td>\n",
       "    </tr>\n",
       "  </tbody>\n",
       "</table>\n",
       "</div>"
      ],
      "text/plain": [
       "        distance  surge_multiplier\n",
       "81068       0.68               1.0\n",
       "328075      2.30               1.0\n",
       "108386      2.70               1.0\n",
       "458037      1.71               1.0\n",
       "230894      3.24               1.0"
      ]
     },
     "execution_count": 39,
     "metadata": {},
     "output_type": "execute_result"
    }
   ],
   "source": [
    "# Split variabel train dan test berbasis tipe kolom\n",
    "X_train_num = X_train[num_col]\n",
    "X_test_num = X_test[num_col]\n",
    "\n",
    "X_train_cat = X_train[cat_col]\n",
    "X_test_cat = X_test[cat_col]\n",
    "\n",
    "X_train_num.head()"
   ]
  },
  {
   "cell_type": "markdown",
   "metadata": {},
   "source": [
    "Membagi data **train** dan **test** berdasarkan **numerik** dan **kategori** pada data X_train dan X_test."
   ]
  },
  {
   "cell_type": "code",
   "execution_count": 40,
   "metadata": {},
   "outputs": [
    {
     "data": {
      "text/plain": [
       "<bound method DataFrame.info of                 name\n",
       "81068           Lyft\n",
       "328075          Lyft\n",
       "108386        Shared\n",
       "458037     Lux Black\n",
       "230894  Lux Black XL\n",
       "...              ...\n",
       "14235          UberX\n",
       "104160       Lyft XL\n",
       "133864           Lux\n",
       "264758      UberPool\n",
       "567822     Black SUV\n",
       "\n",
       "[403975 rows x 1 columns]>"
      ]
     },
     "execution_count": 40,
     "metadata": {},
     "output_type": "execute_result"
    }
   ],
   "source": [
    "#Menampilkan informasi pada kolom X_train_cat\n",
    "X_train_cat.info"
   ]
  },
  {
   "cell_type": "code",
   "execution_count": 41,
   "metadata": {},
   "outputs": [
    {
     "data": {
      "text/plain": [
       "<bound method DataFrame.info of         distance  surge_multiplier\n",
       "81068       0.68               1.0\n",
       "328075      2.30               1.0\n",
       "108386      2.70               1.0\n",
       "458037      1.71               1.0\n",
       "230894      3.24               1.0\n",
       "...          ...               ...\n",
       "14235       1.18               1.0\n",
       "104160      2.70               1.0\n",
       "133864      2.86               1.0\n",
       "264758      1.00               1.0\n",
       "567822      1.16               1.0\n",
       "\n",
       "[403975 rows x 2 columns]>"
      ]
     },
     "execution_count": 41,
     "metadata": {},
     "output_type": "execute_result"
    }
   ],
   "source": [
    "#Menampilkan informasi pada kolom X_train_cat\n",
    "X_train_num.info"
   ]
  },
  {
   "cell_type": "markdown",
   "metadata": {},
   "source": [
    "## Feature Scaling"
   ]
  },
  {
   "cell_type": "code",
   "execution_count": 42,
   "metadata": {},
   "outputs": [
    {
     "data": {
      "text/plain": [
       "array([[0.12222222, 0.        ],\n",
       "       [0.42222222, 0.        ],\n",
       "       [0.4962963 , 0.        ],\n",
       "       ...,\n",
       "       [0.52592593, 0.        ],\n",
       "       [0.18148148, 0.        ],\n",
       "       [0.21111111, 0.        ]])"
      ]
     },
     "execution_count": 42,
     "metadata": {},
     "output_type": "execute_result"
    }
   ],
   "source": [
    "# Melakukan scaling menggunakan MinMaxScaler\n",
    "scaler = MinMaxScaler()\n",
    "scaler.fit(X_train[['distance', 'surge_multiplier']]) \n",
    "\n",
    "X_train_num_scaled = scaler.transform(X_train[['distance', 'surge_multiplier']])\n",
    "X_test_num_scaled = scaler.transform(X_test_num)\n",
    "\n",
    "X_train_num_scaled"
   ]
  },
  {
   "cell_type": "markdown",
   "metadata": {},
   "source": [
    "Melakukan scaling pada data numerik mengunakan **MinMaxScaler** dan memasukkan hasil scaling pada data X_train. Kemudian juga melakukan scaling pada X_test_num"
   ]
  },
  {
   "cell_type": "markdown",
   "metadata": {},
   "source": [
    "## Feature Encoding"
   ]
  },
  {
   "cell_type": "code",
   "execution_count": 43,
   "metadata": {},
   "outputs": [
    {
     "data": {
      "text/plain": [
       "Index(['name', 'distance', 'surge_multiplier'], dtype='object')"
      ]
     },
     "execution_count": 43,
     "metadata": {},
     "output_type": "execute_result"
    }
   ],
   "source": [
    "# Menampilkan kolom pada X_train\n",
    "X_train.columns"
   ]
  },
  {
   "cell_type": "code",
   "execution_count": 44,
   "metadata": {},
   "outputs": [
    {
     "data": {
      "text/plain": [
       "array(['Lyft', 'Shared', 'Lux Black', 'Lux Black XL', 'Lyft XL', 'Lux',\n",
       "       'Black', 'UberXL', 'Black SUV', 'UberPool', 'UberX', 'WAV'],\n",
       "      dtype=object)"
      ]
     },
     "execution_count": 44,
     "metadata": {},
     "output_type": "execute_result"
    }
   ],
   "source": [
    "# Menampilkan nilai unik pada name\n",
    "X_train.name.unique()"
   ]
  },
  {
   "cell_type": "code",
   "execution_count": 45,
   "metadata": {},
   "outputs": [
    {
     "data": {
      "text/plain": [
       "array([[0., 0., 0., ..., 0., 0., 0.],\n",
       "       [0., 0., 0., ..., 0., 0., 0.],\n",
       "       [0., 0., 0., ..., 0., 0., 0.],\n",
       "       ...,\n",
       "       [0., 0., 1., ..., 0., 0., 0.],\n",
       "       [0., 0., 0., ..., 0., 0., 0.],\n",
       "       [0., 1., 0., ..., 0., 0., 0.]])"
      ]
     },
     "execution_count": 45,
     "metadata": {},
     "output_type": "execute_result"
    }
   ],
   "source": [
    "#Melakukan encoding menggunakan OneHotEncoder \n",
    "y = OneHotEncoder(sparse_output=False)\n",
    "X_train_cat_encoded = y.fit_transform(X_train[['name']])\n",
    "X_test_cat_encoded = y.transform(X_test[['name']])\n",
    "\n",
    "X_train_cat_encoded"
   ]
  },
  {
   "cell_type": "markdown",
   "metadata": {},
   "source": [
    "Dalam hal ini melakukan encoding pada kolom name menggunakan **OneHotEncoder** karena nilai pada kolom name adalah **nominal**."
   ]
  },
  {
   "cell_type": "markdown",
   "metadata": {},
   "source": [
    "### Menggabungkan data X train dan test"
   ]
  },
  {
   "cell_type": "code",
   "execution_count": 46,
   "metadata": {},
   "outputs": [
    {
     "data": {
      "text/plain": [
       "array([[0.12222222, 0.        , 0.        , ..., 0.        , 0.        ,\n",
       "        0.        ],\n",
       "       [0.42222222, 0.        , 0.        , ..., 0.        , 0.        ,\n",
       "        0.        ],\n",
       "       [0.4962963 , 0.        , 0.        , ..., 0.        , 0.        ,\n",
       "        0.        ],\n",
       "       ...,\n",
       "       [0.52592593, 0.        , 0.        , ..., 0.        , 0.        ,\n",
       "        0.        ],\n",
       "       [0.18148148, 0.        , 0.        , ..., 0.        , 0.        ,\n",
       "        0.        ],\n",
       "       [0.21111111, 0.        , 0.        , ..., 0.        , 0.        ,\n",
       "        0.        ]])"
      ]
     },
     "execution_count": 46,
     "metadata": {},
     "output_type": "execute_result"
    }
   ],
   "source": [
    "# Menggabungkan data numerik dan kategori dan dimasukkan ke dalam variabel X_train_final dan X_test_final\n",
    "X_train_final = np.concatenate([X_train_num_scaled, X_train_cat_encoded], axis=1)\n",
    "X_test_final = np.concatenate([X_test_num_scaled, X_test_cat_encoded], axis=1)\n",
    "\n",
    "X_train_final"
   ]
  },
  {
   "cell_type": "markdown",
   "metadata": {},
   "source": [
    "Dalam hal ini menggabungkan seluruh proses feature scaling dan feature encoding dan dimasukkan ke dalam **X_train** dan **X_test**"
   ]
  },
  {
   "cell_type": "markdown",
   "metadata": {},
   "source": [
    "# Model Definition"
   ]
  },
  {
   "cell_type": "markdown",
   "metadata": {},
   "source": [
    "Dalam hal ini model yang digunakan adalah model Linear Regression. Hal tersebut dikarenakan karena model yang diprediksi adalah variabel yang bertipe data numerik, yang mana sangat baik untuk memprediksi nilai yang bertipe data numerik atau bilangan. Adapun metode yang digunakan adalah Regresi Linear Berganda atau Multiple Linear Regression karena menggunakan variabel independen lebih dari 1 untuk memprediksi variabel independen.\n",
    "\n",
    "Kemudian, model Linear Regression memiliki kelebihan seperti dapat memberikan representasi sederhana terhadap pola hubungan antara variabel dan dapat memberikan nilai dan arah pengaruh variabel indepeden terhadap variabel dependen. \n",
    "\n",
    "Dari sisi kelemahan, model Linear Regression harus memenuhi 5 uji asumsi klasik seperti uji Normalitas untuk mengecek nilai residu normal atau tidak, uji Multikolinearitas untuk mengecek korelasi antar variabel independen, uji Heterokedastisitas untuk memeriksa apakah terdapat perbedaan yang tidak sama antara residu satu dengan variabel independen lainnya, uji autokorelasi untuk melihat apakah terjadi korelasi di antara suatu periode dengan periode-periode sebelumnya, dan uji linearitas untuk melihat apakah model yang telah dibangun memiliki hubungan linear atau tidak [Uji Asumsi Klasik pada Statistik Regresi](https://dqlab.id/kenali-uji-asumsi-klasik-pada-metode-statistik-regresi). Jika salah satu asumsi tidak dipenuhi, maka model regresi yang dibentuk atau dibangun akan memberikan prediksi yang bias atau tidak akurat.    "
   ]
  },
  {
   "cell_type": "markdown",
   "metadata": {},
   "source": [
    "Kemudian metrik yang digunakan dalam model adalah metrik Mean Absolute Error (MAE), Mean Square Error (MSE), Root Mean Square Error (RMSE),dan R-squared, ([Referensi MAE, MSE, dan RMSE](https://www.trivusi.web.id/2023/03/perbedaan-mae-mse-rmse-dan-mape.html) serta [Referensi R-squared](https://accounting.binus.ac.id/2021/08/12/memahami-r-square-koefisien-determinasi-dalam-penelitian-ilmiah/))   \n",
    "\n",
    "MAE digunakan menghitung rata-rata dari selisih absolut antara nilai prediksi dan nilai aktual. Semakin kecil nilai MAE yang diberikan maka model regresi yang dibentuk cukup baik. \n",
    "\n",
    "MSE digunakan untuk menghitung berapa rata-rata kesalahan kuadrat dalam prediksi. Semakin kecil nilai MSE yang diberikan maka model regresi yang dibentuk cukup baik.\n",
    "\n",
    "RMSE digunakan untuk menghitung rata-rata dari selisih kuadrat antara nilai prediksi dan nilai aktual kemudian diambil akar kuadratnya. Semakin kecil nilai RMSE yang diberikan maka model regresi yang dibentuk cukup baik.\n",
    "\n",
    "Penggunaan R-squared digunakan untuk melihat persentase variabel independen dapat menjelaskan variabel dependen di dalam model atau nilai yang memperlihatkan seberapa besar variabel independen mempengaruhi variabel dependen."
   ]
  },
  {
   "cell_type": "markdown",
   "metadata": {},
   "source": [
    "# Modeling training"
   ]
  },
  {
   "cell_type": "code",
   "execution_count": 47,
   "metadata": {},
   "outputs": [
    {
     "data": {
      "text/html": [
       "<style>#sk-container-id-1 {\n",
       "  /* Definition of color scheme common for light and dark mode */\n",
       "  --sklearn-color-text: black;\n",
       "  --sklearn-color-line: gray;\n",
       "  /* Definition of color scheme for unfitted estimators */\n",
       "  --sklearn-color-unfitted-level-0: #fff5e6;\n",
       "  --sklearn-color-unfitted-level-1: #f6e4d2;\n",
       "  --sklearn-color-unfitted-level-2: #ffe0b3;\n",
       "  --sklearn-color-unfitted-level-3: chocolate;\n",
       "  /* Definition of color scheme for fitted estimators */\n",
       "  --sklearn-color-fitted-level-0: #f0f8ff;\n",
       "  --sklearn-color-fitted-level-1: #d4ebff;\n",
       "  --sklearn-color-fitted-level-2: #b3dbfd;\n",
       "  --sklearn-color-fitted-level-3: cornflowerblue;\n",
       "\n",
       "  /* Specific color for light theme */\n",
       "  --sklearn-color-text-on-default-background: var(--sg-text-color, var(--theme-code-foreground, var(--jp-content-font-color1, black)));\n",
       "  --sklearn-color-background: var(--sg-background-color, var(--theme-background, var(--jp-layout-color0, white)));\n",
       "  --sklearn-color-border-box: var(--sg-text-color, var(--theme-code-foreground, var(--jp-content-font-color1, black)));\n",
       "  --sklearn-color-icon: #696969;\n",
       "\n",
       "  @media (prefers-color-scheme: dark) {\n",
       "    /* Redefinition of color scheme for dark theme */\n",
       "    --sklearn-color-text-on-default-background: var(--sg-text-color, var(--theme-code-foreground, var(--jp-content-font-color1, white)));\n",
       "    --sklearn-color-background: var(--sg-background-color, var(--theme-background, var(--jp-layout-color0, #111)));\n",
       "    --sklearn-color-border-box: var(--sg-text-color, var(--theme-code-foreground, var(--jp-content-font-color1, white)));\n",
       "    --sklearn-color-icon: #878787;\n",
       "  }\n",
       "}\n",
       "\n",
       "#sk-container-id-1 {\n",
       "  color: var(--sklearn-color-text);\n",
       "}\n",
       "\n",
       "#sk-container-id-1 pre {\n",
       "  padding: 0;\n",
       "}\n",
       "\n",
       "#sk-container-id-1 input.sk-hidden--visually {\n",
       "  border: 0;\n",
       "  clip: rect(1px 1px 1px 1px);\n",
       "  clip: rect(1px, 1px, 1px, 1px);\n",
       "  height: 1px;\n",
       "  margin: -1px;\n",
       "  overflow: hidden;\n",
       "  padding: 0;\n",
       "  position: absolute;\n",
       "  width: 1px;\n",
       "}\n",
       "\n",
       "#sk-container-id-1 div.sk-dashed-wrapped {\n",
       "  border: 1px dashed var(--sklearn-color-line);\n",
       "  margin: 0 0.4em 0.5em 0.4em;\n",
       "  box-sizing: border-box;\n",
       "  padding-bottom: 0.4em;\n",
       "  background-color: var(--sklearn-color-background);\n",
       "}\n",
       "\n",
       "#sk-container-id-1 div.sk-container {\n",
       "  /* jupyter's `normalize.less` sets `[hidden] { display: none; }`\n",
       "     but bootstrap.min.css set `[hidden] { display: none !important; }`\n",
       "     so we also need the `!important` here to be able to override the\n",
       "     default hidden behavior on the sphinx rendered scikit-learn.org.\n",
       "     See: https://github.com/scikit-learn/scikit-learn/issues/21755 */\n",
       "  display: inline-block !important;\n",
       "  position: relative;\n",
       "}\n",
       "\n",
       "#sk-container-id-1 div.sk-text-repr-fallback {\n",
       "  display: none;\n",
       "}\n",
       "\n",
       "div.sk-parallel-item,\n",
       "div.sk-serial,\n",
       "div.sk-item {\n",
       "  /* draw centered vertical line to link estimators */\n",
       "  background-image: linear-gradient(var(--sklearn-color-text-on-default-background), var(--sklearn-color-text-on-default-background));\n",
       "  background-size: 2px 100%;\n",
       "  background-repeat: no-repeat;\n",
       "  background-position: center center;\n",
       "}\n",
       "\n",
       "/* Parallel-specific style estimator block */\n",
       "\n",
       "#sk-container-id-1 div.sk-parallel-item::after {\n",
       "  content: \"\";\n",
       "  width: 100%;\n",
       "  border-bottom: 2px solid var(--sklearn-color-text-on-default-background);\n",
       "  flex-grow: 1;\n",
       "}\n",
       "\n",
       "#sk-container-id-1 div.sk-parallel {\n",
       "  display: flex;\n",
       "  align-items: stretch;\n",
       "  justify-content: center;\n",
       "  background-color: var(--sklearn-color-background);\n",
       "  position: relative;\n",
       "}\n",
       "\n",
       "#sk-container-id-1 div.sk-parallel-item {\n",
       "  display: flex;\n",
       "  flex-direction: column;\n",
       "}\n",
       "\n",
       "#sk-container-id-1 div.sk-parallel-item:first-child::after {\n",
       "  align-self: flex-end;\n",
       "  width: 50%;\n",
       "}\n",
       "\n",
       "#sk-container-id-1 div.sk-parallel-item:last-child::after {\n",
       "  align-self: flex-start;\n",
       "  width: 50%;\n",
       "}\n",
       "\n",
       "#sk-container-id-1 div.sk-parallel-item:only-child::after {\n",
       "  width: 0;\n",
       "}\n",
       "\n",
       "/* Serial-specific style estimator block */\n",
       "\n",
       "#sk-container-id-1 div.sk-serial {\n",
       "  display: flex;\n",
       "  flex-direction: column;\n",
       "  align-items: center;\n",
       "  background-color: var(--sklearn-color-background);\n",
       "  padding-right: 1em;\n",
       "  padding-left: 1em;\n",
       "}\n",
       "\n",
       "\n",
       "/* Toggleable style: style used for estimator/Pipeline/ColumnTransformer box that is\n",
       "clickable and can be expanded/collapsed.\n",
       "- Pipeline and ColumnTransformer use this feature and define the default style\n",
       "- Estimators will overwrite some part of the style using the `sk-estimator` class\n",
       "*/\n",
       "\n",
       "/* Pipeline and ColumnTransformer style (default) */\n",
       "\n",
       "#sk-container-id-1 div.sk-toggleable {\n",
       "  /* Default theme specific background. It is overwritten whether we have a\n",
       "  specific estimator or a Pipeline/ColumnTransformer */\n",
       "  background-color: var(--sklearn-color-background);\n",
       "}\n",
       "\n",
       "/* Toggleable label */\n",
       "#sk-container-id-1 label.sk-toggleable__label {\n",
       "  cursor: pointer;\n",
       "  display: block;\n",
       "  width: 100%;\n",
       "  margin-bottom: 0;\n",
       "  padding: 0.5em;\n",
       "  box-sizing: border-box;\n",
       "  text-align: center;\n",
       "}\n",
       "\n",
       "#sk-container-id-1 label.sk-toggleable__label-arrow:before {\n",
       "  /* Arrow on the left of the label */\n",
       "  content: \"▸\";\n",
       "  float: left;\n",
       "  margin-right: 0.25em;\n",
       "  color: var(--sklearn-color-icon);\n",
       "}\n",
       "\n",
       "#sk-container-id-1 label.sk-toggleable__label-arrow:hover:before {\n",
       "  color: var(--sklearn-color-text);\n",
       "}\n",
       "\n",
       "/* Toggleable content - dropdown */\n",
       "\n",
       "#sk-container-id-1 div.sk-toggleable__content {\n",
       "  max-height: 0;\n",
       "  max-width: 0;\n",
       "  overflow: hidden;\n",
       "  text-align: left;\n",
       "  /* unfitted */\n",
       "  background-color: var(--sklearn-color-unfitted-level-0);\n",
       "}\n",
       "\n",
       "#sk-container-id-1 div.sk-toggleable__content.fitted {\n",
       "  /* fitted */\n",
       "  background-color: var(--sklearn-color-fitted-level-0);\n",
       "}\n",
       "\n",
       "#sk-container-id-1 div.sk-toggleable__content pre {\n",
       "  margin: 0.2em;\n",
       "  border-radius: 0.25em;\n",
       "  color: var(--sklearn-color-text);\n",
       "  /* unfitted */\n",
       "  background-color: var(--sklearn-color-unfitted-level-0);\n",
       "}\n",
       "\n",
       "#sk-container-id-1 div.sk-toggleable__content.fitted pre {\n",
       "  /* unfitted */\n",
       "  background-color: var(--sklearn-color-fitted-level-0);\n",
       "}\n",
       "\n",
       "#sk-container-id-1 input.sk-toggleable__control:checked~div.sk-toggleable__content {\n",
       "  /* Expand drop-down */\n",
       "  max-height: 200px;\n",
       "  max-width: 100%;\n",
       "  overflow: auto;\n",
       "}\n",
       "\n",
       "#sk-container-id-1 input.sk-toggleable__control:checked~label.sk-toggleable__label-arrow:before {\n",
       "  content: \"▾\";\n",
       "}\n",
       "\n",
       "/* Pipeline/ColumnTransformer-specific style */\n",
       "\n",
       "#sk-container-id-1 div.sk-label input.sk-toggleable__control:checked~label.sk-toggleable__label {\n",
       "  color: var(--sklearn-color-text);\n",
       "  background-color: var(--sklearn-color-unfitted-level-2);\n",
       "}\n",
       "\n",
       "#sk-container-id-1 div.sk-label.fitted input.sk-toggleable__control:checked~label.sk-toggleable__label {\n",
       "  background-color: var(--sklearn-color-fitted-level-2);\n",
       "}\n",
       "\n",
       "/* Estimator-specific style */\n",
       "\n",
       "/* Colorize estimator box */\n",
       "#sk-container-id-1 div.sk-estimator input.sk-toggleable__control:checked~label.sk-toggleable__label {\n",
       "  /* unfitted */\n",
       "  background-color: var(--sklearn-color-unfitted-level-2);\n",
       "}\n",
       "\n",
       "#sk-container-id-1 div.sk-estimator.fitted input.sk-toggleable__control:checked~label.sk-toggleable__label {\n",
       "  /* fitted */\n",
       "  background-color: var(--sklearn-color-fitted-level-2);\n",
       "}\n",
       "\n",
       "#sk-container-id-1 div.sk-label label.sk-toggleable__label,\n",
       "#sk-container-id-1 div.sk-label label {\n",
       "  /* The background is the default theme color */\n",
       "  color: var(--sklearn-color-text-on-default-background);\n",
       "}\n",
       "\n",
       "/* On hover, darken the color of the background */\n",
       "#sk-container-id-1 div.sk-label:hover label.sk-toggleable__label {\n",
       "  color: var(--sklearn-color-text);\n",
       "  background-color: var(--sklearn-color-unfitted-level-2);\n",
       "}\n",
       "\n",
       "/* Label box, darken color on hover, fitted */\n",
       "#sk-container-id-1 div.sk-label.fitted:hover label.sk-toggleable__label.fitted {\n",
       "  color: var(--sklearn-color-text);\n",
       "  background-color: var(--sklearn-color-fitted-level-2);\n",
       "}\n",
       "\n",
       "/* Estimator label */\n",
       "\n",
       "#sk-container-id-1 div.sk-label label {\n",
       "  font-family: monospace;\n",
       "  font-weight: bold;\n",
       "  display: inline-block;\n",
       "  line-height: 1.2em;\n",
       "}\n",
       "\n",
       "#sk-container-id-1 div.sk-label-container {\n",
       "  text-align: center;\n",
       "}\n",
       "\n",
       "/* Estimator-specific */\n",
       "#sk-container-id-1 div.sk-estimator {\n",
       "  font-family: monospace;\n",
       "  border: 1px dotted var(--sklearn-color-border-box);\n",
       "  border-radius: 0.25em;\n",
       "  box-sizing: border-box;\n",
       "  margin-bottom: 0.5em;\n",
       "  /* unfitted */\n",
       "  background-color: var(--sklearn-color-unfitted-level-0);\n",
       "}\n",
       "\n",
       "#sk-container-id-1 div.sk-estimator.fitted {\n",
       "  /* fitted */\n",
       "  background-color: var(--sklearn-color-fitted-level-0);\n",
       "}\n",
       "\n",
       "/* on hover */\n",
       "#sk-container-id-1 div.sk-estimator:hover {\n",
       "  /* unfitted */\n",
       "  background-color: var(--sklearn-color-unfitted-level-2);\n",
       "}\n",
       "\n",
       "#sk-container-id-1 div.sk-estimator.fitted:hover {\n",
       "  /* fitted */\n",
       "  background-color: var(--sklearn-color-fitted-level-2);\n",
       "}\n",
       "\n",
       "/* Specification for estimator info (e.g. \"i\" and \"?\") */\n",
       "\n",
       "/* Common style for \"i\" and \"?\" */\n",
       "\n",
       ".sk-estimator-doc-link,\n",
       "a:link.sk-estimator-doc-link,\n",
       "a:visited.sk-estimator-doc-link {\n",
       "  float: right;\n",
       "  font-size: smaller;\n",
       "  line-height: 1em;\n",
       "  font-family: monospace;\n",
       "  background-color: var(--sklearn-color-background);\n",
       "  border-radius: 1em;\n",
       "  height: 1em;\n",
       "  width: 1em;\n",
       "  text-decoration: none !important;\n",
       "  margin-left: 1ex;\n",
       "  /* unfitted */\n",
       "  border: var(--sklearn-color-unfitted-level-1) 1pt solid;\n",
       "  color: var(--sklearn-color-unfitted-level-1);\n",
       "}\n",
       "\n",
       ".sk-estimator-doc-link.fitted,\n",
       "a:link.sk-estimator-doc-link.fitted,\n",
       "a:visited.sk-estimator-doc-link.fitted {\n",
       "  /* fitted */\n",
       "  border: var(--sklearn-color-fitted-level-1) 1pt solid;\n",
       "  color: var(--sklearn-color-fitted-level-1);\n",
       "}\n",
       "\n",
       "/* On hover */\n",
       "div.sk-estimator:hover .sk-estimator-doc-link:hover,\n",
       ".sk-estimator-doc-link:hover,\n",
       "div.sk-label-container:hover .sk-estimator-doc-link:hover,\n",
       ".sk-estimator-doc-link:hover {\n",
       "  /* unfitted */\n",
       "  background-color: var(--sklearn-color-unfitted-level-3);\n",
       "  color: var(--sklearn-color-background);\n",
       "  text-decoration: none;\n",
       "}\n",
       "\n",
       "div.sk-estimator.fitted:hover .sk-estimator-doc-link.fitted:hover,\n",
       ".sk-estimator-doc-link.fitted:hover,\n",
       "div.sk-label-container:hover .sk-estimator-doc-link.fitted:hover,\n",
       ".sk-estimator-doc-link.fitted:hover {\n",
       "  /* fitted */\n",
       "  background-color: var(--sklearn-color-fitted-level-3);\n",
       "  color: var(--sklearn-color-background);\n",
       "  text-decoration: none;\n",
       "}\n",
       "\n",
       "/* Span, style for the box shown on hovering the info icon */\n",
       ".sk-estimator-doc-link span {\n",
       "  display: none;\n",
       "  z-index: 9999;\n",
       "  position: relative;\n",
       "  font-weight: normal;\n",
       "  right: .2ex;\n",
       "  padding: .5ex;\n",
       "  margin: .5ex;\n",
       "  width: min-content;\n",
       "  min-width: 20ex;\n",
       "  max-width: 50ex;\n",
       "  color: var(--sklearn-color-text);\n",
       "  box-shadow: 2pt 2pt 4pt #999;\n",
       "  /* unfitted */\n",
       "  background: var(--sklearn-color-unfitted-level-0);\n",
       "  border: .5pt solid var(--sklearn-color-unfitted-level-3);\n",
       "}\n",
       "\n",
       ".sk-estimator-doc-link.fitted span {\n",
       "  /* fitted */\n",
       "  background: var(--sklearn-color-fitted-level-0);\n",
       "  border: var(--sklearn-color-fitted-level-3);\n",
       "}\n",
       "\n",
       ".sk-estimator-doc-link:hover span {\n",
       "  display: block;\n",
       "}\n",
       "\n",
       "/* \"?\"-specific style due to the `<a>` HTML tag */\n",
       "\n",
       "#sk-container-id-1 a.estimator_doc_link {\n",
       "  float: right;\n",
       "  font-size: 1rem;\n",
       "  line-height: 1em;\n",
       "  font-family: monospace;\n",
       "  background-color: var(--sklearn-color-background);\n",
       "  border-radius: 1rem;\n",
       "  height: 1rem;\n",
       "  width: 1rem;\n",
       "  text-decoration: none;\n",
       "  /* unfitted */\n",
       "  color: var(--sklearn-color-unfitted-level-1);\n",
       "  border: var(--sklearn-color-unfitted-level-1) 1pt solid;\n",
       "}\n",
       "\n",
       "#sk-container-id-1 a.estimator_doc_link.fitted {\n",
       "  /* fitted */\n",
       "  border: var(--sklearn-color-fitted-level-1) 1pt solid;\n",
       "  color: var(--sklearn-color-fitted-level-1);\n",
       "}\n",
       "\n",
       "/* On hover */\n",
       "#sk-container-id-1 a.estimator_doc_link:hover {\n",
       "  /* unfitted */\n",
       "  background-color: var(--sklearn-color-unfitted-level-3);\n",
       "  color: var(--sklearn-color-background);\n",
       "  text-decoration: none;\n",
       "}\n",
       "\n",
       "#sk-container-id-1 a.estimator_doc_link.fitted:hover {\n",
       "  /* fitted */\n",
       "  background-color: var(--sklearn-color-fitted-level-3);\n",
       "}\n",
       "</style><div id=\"sk-container-id-1\" class=\"sk-top-container\"><div class=\"sk-text-repr-fallback\"><pre>LinearRegression()</pre><b>In a Jupyter environment, please rerun this cell to show the HTML representation or trust the notebook. <br />On GitHub, the HTML representation is unable to render, please try loading this page with nbviewer.org.</b></div><div class=\"sk-container\" hidden><div class=\"sk-item\"><div class=\"sk-estimator fitted sk-toggleable\"><input class=\"sk-toggleable__control sk-hidden--visually\" id=\"sk-estimator-id-1\" type=\"checkbox\" checked><label for=\"sk-estimator-id-1\" class=\"sk-toggleable__label fitted sk-toggleable__label-arrow fitted\">&nbsp;&nbsp;LinearRegression<a class=\"sk-estimator-doc-link fitted\" rel=\"noreferrer\" target=\"_blank\" href=\"https://scikit-learn.org/1.4/modules/generated/sklearn.linear_model.LinearRegression.html\">?<span>Documentation for LinearRegression</span></a><span class=\"sk-estimator-doc-link fitted\">i<span>Fitted</span></span></label><div class=\"sk-toggleable__content fitted\"><pre>LinearRegression()</pre></div> </div></div></div></div>"
      ],
      "text/plain": [
       "LinearRegression()"
      ]
     },
     "execution_count": 47,
     "metadata": {},
     "output_type": "execute_result"
    }
   ],
   "source": [
    "# Model linear\n",
    "model_lin = LinearRegression()\n",
    "\n",
    "# Melakukan training pada variabel X terhadap y \n",
    "model_lin.fit(X_train_final, y_train)"
   ]
  },
  {
   "cell_type": "markdown",
   "metadata": {},
   "source": [
    "Menggunakan model linear regression untuk melakukan prediksi **price** dengan menggunakan variabel **distance, surge_multiplier, dan name** "
   ]
  },
  {
   "cell_type": "markdown",
   "metadata": {},
   "source": [
    "# Model Evaluation"
   ]
  },
  {
   "cell_type": "code",
   "execution_count": 48,
   "metadata": {},
   "outputs": [
    {
     "name": "stdout",
     "output_type": "stream",
     "text": [
      "[ 4.61819975  9.24512619  7.50199442 ... 19.01045327  5.47419459\n",
      " 27.25056976]\n",
      "[14.9118402   7.06167985 11.72010407 ... 15.41351803  9.10147642\n",
      " 30.73504522]\n"
     ]
    }
   ],
   "source": [
    "# Melakukan prediksi pada data train dan data test\n",
    "\n",
    "y_pred_train = model_lin.predict(X_train_final)\n",
    "y_pred_test = model_lin.predict(X_test_final)\n",
    "\n",
    "print(y_pred_train)\n",
    "print(y_pred_test)"
   ]
  },
  {
   "cell_type": "markdown",
   "metadata": {},
   "source": [
    "Melakukan prediksi pada data train dan test pada variabel y menggunakan variabel X. Adapun hasilnya berbentuk array."
   ]
  },
  {
   "cell_type": "code",
   "execution_count": 49,
   "metadata": {},
   "outputs": [
    {
     "name": "stdout",
     "output_type": "stream",
     "text": [
      "Intercept :  118308930.91964807\n",
      "Coefficient :  [ 1.54230881e+01  3.63149088e+01 -1.18308917e+08 -1.18308907e+08\n",
      " -1.18308920e+08 -1.18308915e+08 -1.18308905e+08 -1.18308928e+08\n",
      " -1.18308922e+08 -1.18308931e+08 -1.18308928e+08 -1.18308927e+08\n",
      " -1.18308921e+08 -1.18308927e+08]\n"
     ]
    }
   ],
   "source": [
    "# Menampilkan coef dan intercept\n",
    "coefficients = model_lin.coef_\n",
    "intercept = model_lin.intercept_\n",
    "\n",
    "\n",
    "print('Intercept : ', intercept)\n",
    "print('Coefficient : ', coefficients)"
   ]
  },
  {
   "cell_type": "markdown",
   "metadata": {},
   "source": [
    "Berdasarkan data diatas terdapat nilai intercept dan 14 nilai coefficient.\n",
    "\n",
    "Oleh karena itu dapat dituliskan model ekonometrikanya sebagai berikut:\n",
    "\n",
    "``y = B0 + B1X1 + B2X2 + B3X3``\n",
    "\n",
    "``price = B0 + B1 distance + B2 surge_multiplier + B3 name``"
   ]
  },
  {
   "cell_type": "markdown",
   "metadata": {},
   "source": [
    "Pengaruh **distance** terhadap **price** adalah postive, yang dilihat dari coefficient sebesar 1.54903023e+01. Artinya ketika distance atau jarak perjalanan meningkat, maka akan meningkatkan harga. \n",
    "\n",
    "Pengaruh **surge_multiplier** terhadap **price** adalah postive, yang dilihat dari coefficient sebesar 3.61469135e+01. Artinya ketika surge_multiplier meningkat, maka akan meningkatkan harga. \n",
    "\n",
    "Pengaruh **name** terhadap setiap kategori **price** adalah negative, yang salah satunya dapat dilihat dari coefficient sebesar -5.86199365e+09. Artinya ketika menggunakan salah satu jasa pada Uber atau Lyft dengan model mobil tertentu, maka akan menurunkan harga.\n",
    "\n",
    "Pada **intercept**, jika tidak ada variabel independen yang dimasukkan ke dalam model regresi, maka **price** bernilai 5861993659.429637"
   ]
  },
  {
   "cell_type": "code",
   "execution_count": 50,
   "metadata": {},
   "outputs": [
    {
     "data": {
      "text/plain": [
       "81068      7.0\n",
       "328075     9.0\n",
       "108386     7.0\n",
       "458037    22.5\n",
       "230894    38.5\n",
       "          ... \n",
       "14235      8.5\n",
       "104160    16.5\n",
       "133864    19.5\n",
       "264758     8.0\n",
       "567822    26.5\n",
       "Name: price, Length: 403975, dtype: float64"
      ]
     },
     "execution_count": 50,
     "metadata": {},
     "output_type": "execute_result"
    }
   ],
   "source": [
    "# Melakukan tampilan pada y_train_trimmed\n",
    "y_train"
   ]
  },
  {
   "cell_type": "code",
   "execution_count": 51,
   "metadata": {},
   "outputs": [
    {
     "data": {
      "text/plain": [
       "25298     15.5\n",
       "683156     7.0\n",
       "511024    10.5\n",
       "668295    25.5\n",
       "136316     5.0\n",
       "          ... \n",
       "446697     8.0\n",
       "251204    13.5\n",
       "104349    13.0\n",
       "119756     9.0\n",
       "166289    31.0\n",
       "Name: price, Length: 100994, dtype: float64"
      ]
     },
     "execution_count": 51,
     "metadata": {},
     "output_type": "execute_result"
    }
   ],
   "source": [
    "# Melakukan tampilan pada y_test_cleaned\n",
    "y_test"
   ]
  },
  {
   "cell_type": "code",
   "execution_count": 52,
   "metadata": {},
   "outputs": [
    {
     "name": "stdout",
     "output_type": "stream",
     "text": [
      "Error - Train set MAE: 1.740514653341507\n",
      "Error - Test set MAE: 1.7473763617364633\n",
      "\n",
      "Error - Train set MSE: 5.959000419730892\n",
      "Error - Test set MSE: 6.075433790493006\n",
      "\n",
      "Error - Train set RMSE: 2.4411063925463985\n",
      "Error - Test set RMSE: 2.4648395060313777\n",
      "\n",
      "Error - Train set R2_score: 0.9299696097618643\n",
      "Error - Test set R2_score: 0.9288887381846581\n",
      "\n"
     ]
    }
   ],
   "source": [
    "# Model Evaluation using MAE\n",
    "print('Error - Train set MAE:',mean_absolute_error(y_train,y_pred_train))\n",
    "print('Error - Test set MAE:',mean_absolute_error(y_test,y_pred_test))\n",
    "print('')\n",
    "\n",
    "# Model Evaluation using MSE\n",
    "print('Error - Train set MSE:',mean_squared_error(y_train,y_pred_train))\n",
    "print('Error - Test set MSE:',mean_squared_error(y_test,y_pred_test))\n",
    "print('')\n",
    "\n",
    "# Model Evaluation using RMSE\n",
    "print('Error - Train set RMSE:',root_mean_squared_error(y_train,y_pred_train))\n",
    "print('Error - Test set RMSE:',root_mean_squared_error(y_test,y_pred_test))\n",
    "print('')\n",
    "\n",
    "# Model Evaluation using R2_score\n",
    "print('Error - Train set R2_score:',r2_score(y_train,y_pred_train))\n",
    "print('Error - Test set R2_score:',r2_score(y_test,y_pred_test))\n",
    "print('')"
   ]
  },
  {
   "cell_type": "markdown",
   "metadata": {},
   "source": [
    "Berdasarkan **MAE** pada train dan test terdapat nilai masing-masing sebesar 1.74 dan 1.78. Artinya, pada data train rata-rata erorr pada prediksi y sebesar 1.74 adapun data test rata-rata erorr pada prediksi y sebesar 1.78.\n",
    "\n",
    "Berdasarkan **MSE** pada train dan test terdapat nilai masing-masing sebesar 5.95 dan 6.07. Artinya, pada data train  rata-rata kuadrat selisih antara nilai prediksi dan nilai sebenarnya sebesar 5.95 adapun data test  rata-rata kuadrat selisih antara nilai prediksi dan nilai sebenarnya sebesar 6.07.\n",
    "\n",
    "Berdasarkan **RMSE** pada train dan test terdapat nilai masing-masing sebesar 2.44 dan 2.46. Artinya, pada data train akar kuadrat dari MSE sebesar 2.44 adapun data test akar kuadrat dari MSE sebesar 2.46.\n",
    "\n",
    "Kemudian, berdasarkan **R-squared** pada train dan test terdapat nilai masing-masing sebesar 0.929 dan 0.925. Artinya, pada data train variabel X dapat menjelasakan variabel y sebesar 92,9 % dan pada data test variabel X dapat menjelasakan variabel y sebesar 92,5 %. Jika dilihat dari perbedaan nilai R2 Train dan R2 Test yang tidak mencapai 5 persen, artinya model yang diberikan sudah goodfit.\n"
   ]
  },
  {
   "cell_type": "markdown",
   "metadata": {},
   "source": [
    "Dari hasil tersebut, dapat disimpulkan bahwa model memiliki kinerja yang baik, karena:\n",
    "\n",
    "1. Nilai MAE, MSE, dan RMSE relatif rendah, menunjukkan bahwa kesalahan prediksi model tidak terlalu besar.\n",
    "\n",
    "2. Nilai R2 yang tinggi menunjukkan bahwa sebagian besar variasi dalam harga (variabel dependen) dapat dijelaskan oleh variabel independen (name, surge_multiplier, dan distance). Perbedaan yang kecil antara R2 pada data pelatihan dan uji menunjukkan bahwa model memiliki kemampuan yang baik dalam menggeneralisasi dari data pelatihan ke data uji (tidak ada tanda-tanda overfitting atau underfitting yang signifikan).\n",
    "\n",
    "Dengan demikian, berdasarkan metrik evaluasi yang diberikan, model regresi yang dibangun tampaknya cukup baik dalam memprediksi harga (variabel dependen) berdasarkan variabel independen yang telah dijelaskan (name, surge_multiplier, dan distance)."
   ]
  },
  {
   "cell_type": "markdown",
   "metadata": {},
   "source": [
    "# Model Inference"
   ]
  },
  {
   "cell_type": "code",
   "execution_count": 53,
   "metadata": {},
   "outputs": [],
   "source": [
    "# Mengambil sample inference dari dataframe\n",
    "\n",
    "df_inference = df.sample(1, random_state=20)"
   ]
  },
  {
   "cell_type": "markdown",
   "metadata": {},
   "source": [
    "Membuat data inference dari sampe dataframe. "
   ]
  },
  {
   "cell_type": "code",
   "execution_count": 54,
   "metadata": {},
   "outputs": [
    {
     "data": {
      "text/html": [
       "<div>\n",
       "<style scoped>\n",
       "    .dataframe tbody tr th:only-of-type {\n",
       "        vertical-align: middle;\n",
       "    }\n",
       "\n",
       "    .dataframe tbody tr th {\n",
       "        vertical-align: top;\n",
       "    }\n",
       "\n",
       "    .dataframe thead th {\n",
       "        text-align: right;\n",
       "    }\n",
       "</style>\n",
       "<table border=\"1\" class=\"dataframe\">\n",
       "  <thead>\n",
       "    <tr style=\"text-align: right;\">\n",
       "      <th></th>\n",
       "      <th>name</th>\n",
       "    </tr>\n",
       "  </thead>\n",
       "  <tbody>\n",
       "    <tr>\n",
       "      <th>668305</th>\n",
       "      <td>Shared</td>\n",
       "    </tr>\n",
       "  </tbody>\n",
       "</table>\n",
       "</div>"
      ],
      "text/plain": [
       "          name\n",
       "668305  Shared"
      ]
     },
     "execution_count": 54,
     "metadata": {},
     "output_type": "execute_result"
    }
   ],
   "source": [
    "# Melakukan split data numerik dan data kategorial\n",
    "\n",
    "data_inf_numerik = df_inference[num_col]\n",
    "data_inf_kategori = df_inference[cat_col]\n",
    "data_inf_kategori"
   ]
  },
  {
   "cell_type": "markdown",
   "metadata": {},
   "source": [
    "Melakukan split data numerik dan kategori dari data inference yang dibuat."
   ]
  },
  {
   "cell_type": "code",
   "execution_count": 55,
   "metadata": {},
   "outputs": [
    {
     "data": {
      "text/plain": [
       "array([[0.56111111, 0.        , 0.        , 0.        , 0.        ,\n",
       "        0.        , 0.        , 0.        , 0.        , 1.        ,\n",
       "        0.        , 0.        , 0.        , 0.        ]])"
      ]
     },
     "execution_count": 55,
     "metadata": {},
     "output_type": "execute_result"
    }
   ],
   "source": [
    "# Melakukan scaling dan encoding pada kolom numerik dan kategori\n",
    "\n",
    "df_inf_scaled = scaler.transform(data_inf_numerik[['distance', 'surge_multiplier']])\n",
    "df_inf_encoded = y.transform(data_inf_kategori[['name']])\n",
    "\n",
    "df_inference_final = np.column_stack((df_inf_scaled, df_inf_encoded))\n",
    "\n",
    "df_inference_final"
   ]
  },
  {
   "cell_type": "markdown",
   "metadata": {},
   "source": [
    "Melakukan scaling pada data numerik dan encoding pada data kategorik dan kmeudian menggabungkan scaling dan encoding utk dilakukan prediksi sbeagai variabel independen."
   ]
  },
  {
   "cell_type": "code",
   "execution_count": 56,
   "metadata": {},
   "outputs": [
    {
     "name": "stdout",
     "output_type": "stream",
     "text": [
      "Hasil prediksi harga : [8.50163901]\n"
     ]
    },
    {
     "data": {
      "text/html": [
       "<div>\n",
       "<style scoped>\n",
       "    .dataframe tbody tr th:only-of-type {\n",
       "        vertical-align: middle;\n",
       "    }\n",
       "\n",
       "    .dataframe tbody tr th {\n",
       "        vertical-align: top;\n",
       "    }\n",
       "\n",
       "    .dataframe thead th {\n",
       "        text-align: right;\n",
       "    }\n",
       "</style>\n",
       "<table border=\"1\" class=\"dataframe\">\n",
       "  <thead>\n",
       "    <tr style=\"text-align: right;\">\n",
       "      <th></th>\n",
       "      <th>name</th>\n",
       "      <th>distance</th>\n",
       "      <th>surge_multiplier</th>\n",
       "      <th>price</th>\n",
       "    </tr>\n",
       "  </thead>\n",
       "  <tbody>\n",
       "    <tr>\n",
       "      <th>668305</th>\n",
       "      <td>Shared</td>\n",
       "      <td>3.05</td>\n",
       "      <td>1.0</td>\n",
       "      <td>7.0</td>\n",
       "    </tr>\n",
       "  </tbody>\n",
       "</table>\n",
       "</div>"
      ],
      "text/plain": [
       "          name  distance  surge_multiplier  price\n",
       "668305  Shared      3.05               1.0    7.0"
      ]
     },
     "execution_count": 56,
     "metadata": {},
     "output_type": "execute_result"
    }
   ],
   "source": [
    "# Melakukan prediksi\n",
    "y_pred_inference = model_lin.predict(df_inference_final)\n",
    "\n",
    "print(f\"Hasil prediksi harga : {y_pred_inference}\")\n",
    "\n",
    "df_inference[['name', 'distance', 'surge_multiplier', 'price']]"
   ]
  },
  {
   "cell_type": "markdown",
   "metadata": {},
   "source": [
    "Dalam hal ini prediksi pada data inference berhasil dilakukan dan kemudian dilakukan komparasi antara price prediksi dan price original."
   ]
  },
  {
   "cell_type": "markdown",
   "metadata": {},
   "source": [
    "# Overall Analysis"
   ]
  },
  {
   "cell_type": "markdown",
   "metadata": {},
   "source": [
    "Berdasarkan analisis hasil koefisien dan intercept dalam model regresi yang telah disediakan, dapat disimpulkan dalam bentuk informasi bahwa:\n",
    "\n",
    "**1. Pengaruh Distance terhadap Price**:\n",
    "\n",
    "Koefisien positif (1.54903023e+01) pada variabel distance menunjukkan bahwa terdapat hubungan positif antara jarak perjalanan (distance) dengan harga (price).\n",
    "Dengan kata lain, semakin jauh perjalanan, semakin tinggi harga yang dikenakan.\n",
    "\n",
    "**2. Pengaruh Surge Multiplier terhadap Price**:\n",
    "\n",
    "Koefisien positif (3.61469135e+01) pada variabel surge_multiplier menunjukkan bahwa terdapat hubungan positif antara faktor peningkatan (surge multiplier) dengan harga (price).\n",
    "Artinya, ketika terjadi peningkatan dalam surge_multiplier, harga juga cenderung meningkat.\n",
    "\n",
    "**3. Pengaruh Name terhadap Price**:\n",
    "\n",
    "Koefisien negatif pada variabel name terhadap harga menunjukkan bahwa terdapat hubungan negatif antara menggunakan jasa Uber atau Lyft dengan model mobil tertentu dan harga.\n",
    "Artinya, menggunakan salah satu layanan dengan model mobil tertentu dapat menurunkan harga.\n",
    "\n",
    "**4. Intercept**:\n",
    "\n",
    "Intercept atau nilai konstanta pada 5861993659.429637 adalah nilai harga yang diestimasi ketika tidak ada variabel independen yang dimasukkan ke dalam model.\n",
    "\n",
    "\n"
   ]
  },
  {
   "cell_type": "markdown",
   "metadata": {},
   "source": [
    "Berdasarkan analisis regresi linear diatas juga dapat disimpulkan **kelebihan dan kekurangan** model pada regresi.\n",
    "\n",
    "Kelebihan pada model regresi linear diatas adalah dapat memberikan representasi sederhana terhadap pola hubungan antara variabel dan dapat memberikan nilai dan arah pengaruh variabel indepeden seperti **name, surge_multiplier, dan distance** terhadap variabel dependen **price** sebagai contoh adanya hubungan seatah atau positif antara **distance** dan **surge_multiplier** dengan **price**, artinya semakin meningkatnya **distance maupun surge_multiplier** maka akan meningkatkan **harga**.\n",
    "\n",
    "Kemudian dari sisi kelemahan, output dari model regresi linear adalah nilai estimasi yang mana terdapat kemungkinan adanya ketidaksesuaian dengan data aktual yang ada dan harus memenuhui 5 uji asumsi klasik. Selain itu, pemilihan variabel independen dan variabel dependen yang saling berkaitan dalam hal sebab-akibat juga terbilang cukup sulit. Hal tersebut karena model yang akan dibangun atau dibentuk bisa jadi tidak baik disebabkan karena kesalahan dalam memilih variabel yang digunakan untuk analisis. Lebih lanjut, regresi linear juga hanya dapat berfungsi jika relasi antar datanya adalah linear. Pada realita di lapangan, relasi antar data didominasi oleh relasi tidak linear, oleh karena itu regresi linear tidak dapat memberikan gambaran garis terbaik. \n",
    "\n",
    "Oleh karena itu futher improvement dalam analisis ini dapat menggunakan model regresi lainnya seperti polynomial linear regresion karena dapat pada polynomial linear regresion dapat memprediksi variabel dependen yang terdapat relasi antar data tidak linear. "
   ]
  }
 ],
 "metadata": {
  "kernelspec": {
   "display_name": "base",
   "language": "python",
   "name": "python3"
  },
  "language_info": {
   "codemirror_mode": {
    "name": "ipython",
    "version": 3
   },
   "file_extension": ".py",
   "mimetype": "text/x-python",
   "name": "python",
   "nbconvert_exporter": "python",
   "pygments_lexer": "ipython3",
   "version": "3.9.18"
  }
 },
 "nbformat": 4,
 "nbformat_minor": 2
}
